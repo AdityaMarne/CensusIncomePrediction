{
 "cells": [
  {
   "cell_type": "code",
   "execution_count": 1,
   "metadata": {},
   "outputs": [],
   "source": [
    "import pandas as pd\n",
    "import numpy as np"
   ]
  },
  {
   "cell_type": "code",
   "execution_count": 2,
   "metadata": {},
   "outputs": [],
   "source": [
    "data = pd.read_csv(\"data/clean_censusincome\")"
   ]
  },
  {
   "cell_type": "code",
   "execution_count": 3,
   "metadata": {},
   "outputs": [
    {
     "data": {
      "text/html": [
       "<div>\n",
       "<style scoped>\n",
       "    .dataframe tbody tr th:only-of-type {\n",
       "        vertical-align: middle;\n",
       "    }\n",
       "\n",
       "    .dataframe tbody tr th {\n",
       "        vertical-align: top;\n",
       "    }\n",
       "\n",
       "    .dataframe thead th {\n",
       "        text-align: right;\n",
       "    }\n",
       "</style>\n",
       "<table border=\"1\" class=\"dataframe\">\n",
       "  <thead>\n",
       "    <tr style=\"text-align: right;\">\n",
       "      <th></th>\n",
       "      <th>age</th>\n",
       "      <th>workclass</th>\n",
       "      <th>education</th>\n",
       "      <th>education-num</th>\n",
       "      <th>marital-status</th>\n",
       "      <th>occupation</th>\n",
       "      <th>relationship</th>\n",
       "      <th>race</th>\n",
       "      <th>sex</th>\n",
       "      <th>capital-gain</th>\n",
       "      <th>hours-per-week</th>\n",
       "      <th>native-country</th>\n",
       "      <th>income_class</th>\n",
       "    </tr>\n",
       "  </thead>\n",
       "  <tbody>\n",
       "    <tr>\n",
       "      <th>0</th>\n",
       "      <td>39</td>\n",
       "      <td>State-gov</td>\n",
       "      <td>Bachelors</td>\n",
       "      <td>13.0</td>\n",
       "      <td>Never-married</td>\n",
       "      <td>Adm-clerical</td>\n",
       "      <td>Not-in-family</td>\n",
       "      <td>White</td>\n",
       "      <td>Male</td>\n",
       "      <td>2174.0</td>\n",
       "      <td>40.0</td>\n",
       "      <td>United-States</td>\n",
       "      <td>0</td>\n",
       "    </tr>\n",
       "    <tr>\n",
       "      <th>1</th>\n",
       "      <td>50</td>\n",
       "      <td>Self-emp-not-inc</td>\n",
       "      <td>Bachelors</td>\n",
       "      <td>13.0</td>\n",
       "      <td>Married-civ-spouse</td>\n",
       "      <td>Exec-managerial</td>\n",
       "      <td>Husband</td>\n",
       "      <td>White</td>\n",
       "      <td>Male</td>\n",
       "      <td>0.0</td>\n",
       "      <td>13.0</td>\n",
       "      <td>United-States</td>\n",
       "      <td>0</td>\n",
       "    </tr>\n",
       "    <tr>\n",
       "      <th>2</th>\n",
       "      <td>38</td>\n",
       "      <td>Private</td>\n",
       "      <td>HS-grad</td>\n",
       "      <td>9.0</td>\n",
       "      <td>Divorced</td>\n",
       "      <td>Handlers-cleaners</td>\n",
       "      <td>Not-in-family</td>\n",
       "      <td>White</td>\n",
       "      <td>Male</td>\n",
       "      <td>0.0</td>\n",
       "      <td>40.0</td>\n",
       "      <td>United-States</td>\n",
       "      <td>0</td>\n",
       "    </tr>\n",
       "    <tr>\n",
       "      <th>3</th>\n",
       "      <td>53</td>\n",
       "      <td>Private</td>\n",
       "      <td>11th</td>\n",
       "      <td>7.0</td>\n",
       "      <td>Married-civ-spouse</td>\n",
       "      <td>Handlers-cleaners</td>\n",
       "      <td>Husband</td>\n",
       "      <td>Black</td>\n",
       "      <td>Male</td>\n",
       "      <td>0.0</td>\n",
       "      <td>40.0</td>\n",
       "      <td>United-States</td>\n",
       "      <td>0</td>\n",
       "    </tr>\n",
       "    <tr>\n",
       "      <th>4</th>\n",
       "      <td>28</td>\n",
       "      <td>Private</td>\n",
       "      <td>Bachelors</td>\n",
       "      <td>13.0</td>\n",
       "      <td>Married-civ-spouse</td>\n",
       "      <td>Prof-specialty</td>\n",
       "      <td>Wife</td>\n",
       "      <td>Black</td>\n",
       "      <td>Female</td>\n",
       "      <td>0.0</td>\n",
       "      <td>40.0</td>\n",
       "      <td>Cuba</td>\n",
       "      <td>0</td>\n",
       "    </tr>\n",
       "    <tr>\n",
       "      <th>...</th>\n",
       "      <td>...</td>\n",
       "      <td>...</td>\n",
       "      <td>...</td>\n",
       "      <td>...</td>\n",
       "      <td>...</td>\n",
       "      <td>...</td>\n",
       "      <td>...</td>\n",
       "      <td>...</td>\n",
       "      <td>...</td>\n",
       "      <td>...</td>\n",
       "      <td>...</td>\n",
       "      <td>...</td>\n",
       "      <td>...</td>\n",
       "    </tr>\n",
       "    <tr>\n",
       "      <th>48808</th>\n",
       "      <td>39</td>\n",
       "      <td>Private</td>\n",
       "      <td>Bachelors</td>\n",
       "      <td>13.0</td>\n",
       "      <td>Divorced</td>\n",
       "      <td>Prof-specialty</td>\n",
       "      <td>Not-in-family</td>\n",
       "      <td>White</td>\n",
       "      <td>Female</td>\n",
       "      <td>0.0</td>\n",
       "      <td>36.0</td>\n",
       "      <td>United-States</td>\n",
       "      <td>0</td>\n",
       "    </tr>\n",
       "    <tr>\n",
       "      <th>48809</th>\n",
       "      <td>64</td>\n",
       "      <td>Private</td>\n",
       "      <td>HS-grad</td>\n",
       "      <td>9.0</td>\n",
       "      <td>Widowed</td>\n",
       "      <td>Prof-specialty</td>\n",
       "      <td>Other-relative</td>\n",
       "      <td>Black</td>\n",
       "      <td>Male</td>\n",
       "      <td>0.0</td>\n",
       "      <td>40.0</td>\n",
       "      <td>United-States</td>\n",
       "      <td>0</td>\n",
       "    </tr>\n",
       "    <tr>\n",
       "      <th>48810</th>\n",
       "      <td>38</td>\n",
       "      <td>Private</td>\n",
       "      <td>Bachelors</td>\n",
       "      <td>13.0</td>\n",
       "      <td>Married-civ-spouse</td>\n",
       "      <td>Prof-specialty</td>\n",
       "      <td>Husband</td>\n",
       "      <td>White</td>\n",
       "      <td>Male</td>\n",
       "      <td>0.0</td>\n",
       "      <td>50.0</td>\n",
       "      <td>United-States</td>\n",
       "      <td>0</td>\n",
       "    </tr>\n",
       "    <tr>\n",
       "      <th>48811</th>\n",
       "      <td>44</td>\n",
       "      <td>Private</td>\n",
       "      <td>Bachelors</td>\n",
       "      <td>13.0</td>\n",
       "      <td>Divorced</td>\n",
       "      <td>Adm-clerical</td>\n",
       "      <td>Own-child</td>\n",
       "      <td>Asian-Pac-Islander</td>\n",
       "      <td>Male</td>\n",
       "      <td>5455.0</td>\n",
       "      <td>40.0</td>\n",
       "      <td>United-States</td>\n",
       "      <td>0</td>\n",
       "    </tr>\n",
       "    <tr>\n",
       "      <th>48812</th>\n",
       "      <td>35</td>\n",
       "      <td>Self-emp-inc</td>\n",
       "      <td>Bachelors</td>\n",
       "      <td>13.0</td>\n",
       "      <td>Married-civ-spouse</td>\n",
       "      <td>Exec-managerial</td>\n",
       "      <td>Husband</td>\n",
       "      <td>White</td>\n",
       "      <td>Male</td>\n",
       "      <td>0.0</td>\n",
       "      <td>60.0</td>\n",
       "      <td>United-States</td>\n",
       "      <td>1</td>\n",
       "    </tr>\n",
       "  </tbody>\n",
       "</table>\n",
       "<p>48813 rows × 13 columns</p>\n",
       "</div>"
      ],
      "text/plain": [
       "       age         workclass  education  education-num      marital-status  \\\n",
       "0       39         State-gov  Bachelors           13.0       Never-married   \n",
       "1       50  Self-emp-not-inc  Bachelors           13.0  Married-civ-spouse   \n",
       "2       38           Private    HS-grad            9.0            Divorced   \n",
       "3       53           Private       11th            7.0  Married-civ-spouse   \n",
       "4       28           Private  Bachelors           13.0  Married-civ-spouse   \n",
       "...    ...               ...        ...            ...                 ...   \n",
       "48808   39           Private  Bachelors           13.0            Divorced   \n",
       "48809   64           Private    HS-grad            9.0             Widowed   \n",
       "48810   38           Private  Bachelors           13.0  Married-civ-spouse   \n",
       "48811   44           Private  Bachelors           13.0            Divorced   \n",
       "48812   35      Self-emp-inc  Bachelors           13.0  Married-civ-spouse   \n",
       "\n",
       "              occupation    relationship                race     sex  \\\n",
       "0           Adm-clerical   Not-in-family               White    Male   \n",
       "1        Exec-managerial         Husband               White    Male   \n",
       "2      Handlers-cleaners   Not-in-family               White    Male   \n",
       "3      Handlers-cleaners         Husband               Black    Male   \n",
       "4         Prof-specialty            Wife               Black  Female   \n",
       "...                  ...             ...                 ...     ...   \n",
       "48808     Prof-specialty   Not-in-family               White  Female   \n",
       "48809     Prof-specialty  Other-relative               Black    Male   \n",
       "48810     Prof-specialty         Husband               White    Male   \n",
       "48811       Adm-clerical       Own-child  Asian-Pac-Islander    Male   \n",
       "48812    Exec-managerial         Husband               White    Male   \n",
       "\n",
       "       capital-gain  hours-per-week native-country  income_class  \n",
       "0            2174.0            40.0  United-States             0  \n",
       "1               0.0            13.0  United-States             0  \n",
       "2               0.0            40.0  United-States             0  \n",
       "3               0.0            40.0  United-States             0  \n",
       "4               0.0            40.0           Cuba             0  \n",
       "...             ...             ...            ...           ...  \n",
       "48808           0.0            36.0  United-States             0  \n",
       "48809           0.0            40.0  United-States             0  \n",
       "48810           0.0            50.0  United-States             0  \n",
       "48811        5455.0            40.0  United-States             0  \n",
       "48812           0.0            60.0  United-States             1  \n",
       "\n",
       "[48813 rows x 13 columns]"
      ]
     },
     "execution_count": 3,
     "metadata": {},
     "output_type": "execute_result"
    }
   ],
   "source": [
    "data"
   ]
  },
  {
   "cell_type": "code",
   "execution_count": 4,
   "metadata": {},
   "outputs": [],
   "source": [
    "X = data.iloc[:,0:12]\n",
    "Y = data['income_class']"
   ]
  },
  {
   "cell_type": "code",
   "execution_count": 5,
   "metadata": {},
   "outputs": [
    {
     "data": {
      "text/html": [
       "<div>\n",
       "<style scoped>\n",
       "    .dataframe tbody tr th:only-of-type {\n",
       "        vertical-align: middle;\n",
       "    }\n",
       "\n",
       "    .dataframe tbody tr th {\n",
       "        vertical-align: top;\n",
       "    }\n",
       "\n",
       "    .dataframe thead th {\n",
       "        text-align: right;\n",
       "    }\n",
       "</style>\n",
       "<table border=\"1\" class=\"dataframe\">\n",
       "  <thead>\n",
       "    <tr style=\"text-align: right;\">\n",
       "      <th></th>\n",
       "      <th>age</th>\n",
       "      <th>workclass</th>\n",
       "      <th>education</th>\n",
       "      <th>education-num</th>\n",
       "      <th>marital-status</th>\n",
       "      <th>occupation</th>\n",
       "      <th>relationship</th>\n",
       "      <th>race</th>\n",
       "      <th>sex</th>\n",
       "      <th>capital-gain</th>\n",
       "      <th>hours-per-week</th>\n",
       "      <th>native-country</th>\n",
       "    </tr>\n",
       "  </thead>\n",
       "  <tbody>\n",
       "    <tr>\n",
       "      <th>0</th>\n",
       "      <td>39</td>\n",
       "      <td>State-gov</td>\n",
       "      <td>Bachelors</td>\n",
       "      <td>13.0</td>\n",
       "      <td>Never-married</td>\n",
       "      <td>Adm-clerical</td>\n",
       "      <td>Not-in-family</td>\n",
       "      <td>White</td>\n",
       "      <td>Male</td>\n",
       "      <td>2174.0</td>\n",
       "      <td>40.0</td>\n",
       "      <td>United-States</td>\n",
       "    </tr>\n",
       "    <tr>\n",
       "      <th>1</th>\n",
       "      <td>50</td>\n",
       "      <td>Self-emp-not-inc</td>\n",
       "      <td>Bachelors</td>\n",
       "      <td>13.0</td>\n",
       "      <td>Married-civ-spouse</td>\n",
       "      <td>Exec-managerial</td>\n",
       "      <td>Husband</td>\n",
       "      <td>White</td>\n",
       "      <td>Male</td>\n",
       "      <td>0.0</td>\n",
       "      <td>13.0</td>\n",
       "      <td>United-States</td>\n",
       "    </tr>\n",
       "    <tr>\n",
       "      <th>2</th>\n",
       "      <td>38</td>\n",
       "      <td>Private</td>\n",
       "      <td>HS-grad</td>\n",
       "      <td>9.0</td>\n",
       "      <td>Divorced</td>\n",
       "      <td>Handlers-cleaners</td>\n",
       "      <td>Not-in-family</td>\n",
       "      <td>White</td>\n",
       "      <td>Male</td>\n",
       "      <td>0.0</td>\n",
       "      <td>40.0</td>\n",
       "      <td>United-States</td>\n",
       "    </tr>\n",
       "    <tr>\n",
       "      <th>3</th>\n",
       "      <td>53</td>\n",
       "      <td>Private</td>\n",
       "      <td>11th</td>\n",
       "      <td>7.0</td>\n",
       "      <td>Married-civ-spouse</td>\n",
       "      <td>Handlers-cleaners</td>\n",
       "      <td>Husband</td>\n",
       "      <td>Black</td>\n",
       "      <td>Male</td>\n",
       "      <td>0.0</td>\n",
       "      <td>40.0</td>\n",
       "      <td>United-States</td>\n",
       "    </tr>\n",
       "    <tr>\n",
       "      <th>4</th>\n",
       "      <td>28</td>\n",
       "      <td>Private</td>\n",
       "      <td>Bachelors</td>\n",
       "      <td>13.0</td>\n",
       "      <td>Married-civ-spouse</td>\n",
       "      <td>Prof-specialty</td>\n",
       "      <td>Wife</td>\n",
       "      <td>Black</td>\n",
       "      <td>Female</td>\n",
       "      <td>0.0</td>\n",
       "      <td>40.0</td>\n",
       "      <td>Cuba</td>\n",
       "    </tr>\n",
       "    <tr>\n",
       "      <th>...</th>\n",
       "      <td>...</td>\n",
       "      <td>...</td>\n",
       "      <td>...</td>\n",
       "      <td>...</td>\n",
       "      <td>...</td>\n",
       "      <td>...</td>\n",
       "      <td>...</td>\n",
       "      <td>...</td>\n",
       "      <td>...</td>\n",
       "      <td>...</td>\n",
       "      <td>...</td>\n",
       "      <td>...</td>\n",
       "    </tr>\n",
       "    <tr>\n",
       "      <th>48808</th>\n",
       "      <td>39</td>\n",
       "      <td>Private</td>\n",
       "      <td>Bachelors</td>\n",
       "      <td>13.0</td>\n",
       "      <td>Divorced</td>\n",
       "      <td>Prof-specialty</td>\n",
       "      <td>Not-in-family</td>\n",
       "      <td>White</td>\n",
       "      <td>Female</td>\n",
       "      <td>0.0</td>\n",
       "      <td>36.0</td>\n",
       "      <td>United-States</td>\n",
       "    </tr>\n",
       "    <tr>\n",
       "      <th>48809</th>\n",
       "      <td>64</td>\n",
       "      <td>Private</td>\n",
       "      <td>HS-grad</td>\n",
       "      <td>9.0</td>\n",
       "      <td>Widowed</td>\n",
       "      <td>Prof-specialty</td>\n",
       "      <td>Other-relative</td>\n",
       "      <td>Black</td>\n",
       "      <td>Male</td>\n",
       "      <td>0.0</td>\n",
       "      <td>40.0</td>\n",
       "      <td>United-States</td>\n",
       "    </tr>\n",
       "    <tr>\n",
       "      <th>48810</th>\n",
       "      <td>38</td>\n",
       "      <td>Private</td>\n",
       "      <td>Bachelors</td>\n",
       "      <td>13.0</td>\n",
       "      <td>Married-civ-spouse</td>\n",
       "      <td>Prof-specialty</td>\n",
       "      <td>Husband</td>\n",
       "      <td>White</td>\n",
       "      <td>Male</td>\n",
       "      <td>0.0</td>\n",
       "      <td>50.0</td>\n",
       "      <td>United-States</td>\n",
       "    </tr>\n",
       "    <tr>\n",
       "      <th>48811</th>\n",
       "      <td>44</td>\n",
       "      <td>Private</td>\n",
       "      <td>Bachelors</td>\n",
       "      <td>13.0</td>\n",
       "      <td>Divorced</td>\n",
       "      <td>Adm-clerical</td>\n",
       "      <td>Own-child</td>\n",
       "      <td>Asian-Pac-Islander</td>\n",
       "      <td>Male</td>\n",
       "      <td>5455.0</td>\n",
       "      <td>40.0</td>\n",
       "      <td>United-States</td>\n",
       "    </tr>\n",
       "    <tr>\n",
       "      <th>48812</th>\n",
       "      <td>35</td>\n",
       "      <td>Self-emp-inc</td>\n",
       "      <td>Bachelors</td>\n",
       "      <td>13.0</td>\n",
       "      <td>Married-civ-spouse</td>\n",
       "      <td>Exec-managerial</td>\n",
       "      <td>Husband</td>\n",
       "      <td>White</td>\n",
       "      <td>Male</td>\n",
       "      <td>0.0</td>\n",
       "      <td>60.0</td>\n",
       "      <td>United-States</td>\n",
       "    </tr>\n",
       "  </tbody>\n",
       "</table>\n",
       "<p>48813 rows × 12 columns</p>\n",
       "</div>"
      ],
      "text/plain": [
       "       age         workclass  education  education-num      marital-status  \\\n",
       "0       39         State-gov  Bachelors           13.0       Never-married   \n",
       "1       50  Self-emp-not-inc  Bachelors           13.0  Married-civ-spouse   \n",
       "2       38           Private    HS-grad            9.0            Divorced   \n",
       "3       53           Private       11th            7.0  Married-civ-spouse   \n",
       "4       28           Private  Bachelors           13.0  Married-civ-spouse   \n",
       "...    ...               ...        ...            ...                 ...   \n",
       "48808   39           Private  Bachelors           13.0            Divorced   \n",
       "48809   64           Private    HS-grad            9.0             Widowed   \n",
       "48810   38           Private  Bachelors           13.0  Married-civ-spouse   \n",
       "48811   44           Private  Bachelors           13.0            Divorced   \n",
       "48812   35      Self-emp-inc  Bachelors           13.0  Married-civ-spouse   \n",
       "\n",
       "              occupation    relationship                race     sex  \\\n",
       "0           Adm-clerical   Not-in-family               White    Male   \n",
       "1        Exec-managerial         Husband               White    Male   \n",
       "2      Handlers-cleaners   Not-in-family               White    Male   \n",
       "3      Handlers-cleaners         Husband               Black    Male   \n",
       "4         Prof-specialty            Wife               Black  Female   \n",
       "...                  ...             ...                 ...     ...   \n",
       "48808     Prof-specialty   Not-in-family               White  Female   \n",
       "48809     Prof-specialty  Other-relative               Black    Male   \n",
       "48810     Prof-specialty         Husband               White    Male   \n",
       "48811       Adm-clerical       Own-child  Asian-Pac-Islander    Male   \n",
       "48812    Exec-managerial         Husband               White    Male   \n",
       "\n",
       "       capital-gain  hours-per-week native-country  \n",
       "0            2174.0            40.0  United-States  \n",
       "1               0.0            13.0  United-States  \n",
       "2               0.0            40.0  United-States  \n",
       "3               0.0            40.0  United-States  \n",
       "4               0.0            40.0           Cuba  \n",
       "...             ...             ...            ...  \n",
       "48808           0.0            36.0  United-States  \n",
       "48809           0.0            40.0  United-States  \n",
       "48810           0.0            50.0  United-States  \n",
       "48811        5455.0            40.0  United-States  \n",
       "48812           0.0            60.0  United-States  \n",
       "\n",
       "[48813 rows x 12 columns]"
      ]
     },
     "execution_count": 5,
     "metadata": {},
     "output_type": "execute_result"
    }
   ],
   "source": [
    "X"
   ]
  },
  {
   "cell_type": "code",
   "execution_count": 6,
   "metadata": {},
   "outputs": [
    {
     "data": {
      "text/plain": [
       "0        0\n",
       "1        0\n",
       "2        0\n",
       "3        0\n",
       "4        0\n",
       "        ..\n",
       "48808    0\n",
       "48809    0\n",
       "48810    0\n",
       "48811    0\n",
       "48812    1\n",
       "Name: income_class, Length: 48813, dtype: int64"
      ]
     },
     "execution_count": 6,
     "metadata": {},
     "output_type": "execute_result"
    }
   ],
   "source": [
    "Y"
   ]
  },
  {
   "cell_type": "code",
   "execution_count": 7,
   "metadata": {},
   "outputs": [
    {
     "name": "stdout",
     "output_type": "stream",
     "text": [
      "Categorical Features: Index(['workclass', 'education', 'marital-status', 'occupation',\n",
      "       'relationship', 'race', 'sex', 'native-country'],\n",
      "      dtype='object')\n",
      "Numerical Features: Index(['age', 'education-num', 'capital-gain', 'hours-per-week'], dtype='object')\n"
     ]
    }
   ],
   "source": [
    "## Define which column shoulbe be ordinal-encoded and which should be scaled\n",
    "categorical_cols = X.select_dtypes(include='object').columns\n",
    "numerical_cols = X.select_dtypes(exclude='object').columns\n",
    "\n",
    "print(f'Categorical Features: {categorical_cols}')\n",
    "print(f'Numerical Features: {numerical_cols}')"
   ]
  },
  {
   "cell_type": "code",
   "execution_count": 8,
   "metadata": {},
   "outputs": [],
   "source": [
    "from sklearn.impute import SimpleImputer #Handling Missing Values\n",
    "from sklearn.preprocessing import StandardScaler #Handling Feature Scaling\n",
    "from sklearn.preprocessing import OneHotEncoder #Encoding\n",
    "#Pipeline\n",
    "from sklearn.pipeline import Pipeline\n",
    "from sklearn.compose import ColumnTransformer"
   ]
  },
  {
   "cell_type": "code",
   "execution_count": 9,
   "metadata": {},
   "outputs": [],
   "source": [
    "#numerical pipeline\n",
    "num_pipeline = Pipeline(\n",
    "    steps=[\n",
    "        ('imputer',SimpleImputer(strategy='median')),\n",
    "        ('scaler',StandardScaler())\n",
    "    ]\n",
    ")\n",
    "\n",
    "#categorical pipeline\n",
    "cat_pipeline = Pipeline(\n",
    "    steps=[\n",
    "        ('imputer',SimpleImputer(strategy='most_frequent')),\n",
    "        ('one_hot_encoder', OneHotEncoder(sparse_output=False)),\n",
    "        ('scaler',StandardScaler())\n",
    "    ]\n",
    ")\n",
    "\n",
    "#Pipeline\n",
    "preprocessor = ColumnTransformer([\n",
    "    ('num_pipeline',num_pipeline,numerical_cols),\n",
    "    ('cat_pipeline',cat_pipeline,categorical_cols)\n",
    "]\n",
    ")"
   ]
  },
  {
   "cell_type": "code",
   "execution_count": 10,
   "metadata": {},
   "outputs": [],
   "source": [
    "from sklearn.model_selection import train_test_split\n",
    "X_train,X_test,y_train,y_test = train_test_split(X,Y,test_size=0.20,random_state=42)"
   ]
  },
  {
   "cell_type": "code",
   "execution_count": 11,
   "metadata": {},
   "outputs": [],
   "source": [
    "X_train.columns\n",
    "columns = ['age', 'workclass', 'education', 'education-num', 'marital-status',\n",
    "       'occupation', 'relationship', 'race', 'sex', 'capital-gain',\n",
    "       'hours-per-week', 'native-country']"
   ]
  },
  {
   "cell_type": "code",
   "execution_count": null,
   "metadata": {},
   "outputs": [],
   "source": []
  },
  {
   "cell_type": "code",
   "execution_count": 12,
   "metadata": {},
   "outputs": [],
   "source": [
    "X_train = pd.DataFrame(\n",
    "    preprocessor.fit_transform(X_train),\n",
    "    columns=preprocessor.get_feature_names_out()\n",
    ")"
   ]
  },
  {
   "cell_type": "code",
   "execution_count": 13,
   "metadata": {},
   "outputs": [
    {
     "data": {
      "text/html": [
       "<div>\n",
       "<style scoped>\n",
       "    .dataframe tbody tr th:only-of-type {\n",
       "        vertical-align: middle;\n",
       "    }\n",
       "\n",
       "    .dataframe tbody tr th {\n",
       "        vertical-align: top;\n",
       "    }\n",
       "\n",
       "    .dataframe thead th {\n",
       "        text-align: right;\n",
       "    }\n",
       "</style>\n",
       "<table border=\"1\" class=\"dataframe\">\n",
       "  <thead>\n",
       "    <tr style=\"text-align: right;\">\n",
       "      <th></th>\n",
       "      <th>num_pipeline__age</th>\n",
       "      <th>num_pipeline__education-num</th>\n",
       "      <th>num_pipeline__capital-gain</th>\n",
       "      <th>num_pipeline__hours-per-week</th>\n",
       "      <th>cat_pipeline__workclass_Federal-gov</th>\n",
       "      <th>cat_pipeline__workclass_Local-gov</th>\n",
       "      <th>cat_pipeline__workclass_Never-worked</th>\n",
       "      <th>cat_pipeline__workclass_Private</th>\n",
       "      <th>cat_pipeline__workclass_Self-emp-inc</th>\n",
       "      <th>cat_pipeline__workclass_Self-emp-not-inc</th>\n",
       "      <th>...</th>\n",
       "      <th>cat_pipeline__native-country_Portugal</th>\n",
       "      <th>cat_pipeline__native-country_Puerto-Rico</th>\n",
       "      <th>cat_pipeline__native-country_Scotland</th>\n",
       "      <th>cat_pipeline__native-country_South</th>\n",
       "      <th>cat_pipeline__native-country_Taiwan</th>\n",
       "      <th>cat_pipeline__native-country_Thailand</th>\n",
       "      <th>cat_pipeline__native-country_Trinadad&amp;Tobago</th>\n",
       "      <th>cat_pipeline__native-country_United-States</th>\n",
       "      <th>cat_pipeline__native-country_Vietnam</th>\n",
       "      <th>cat_pipeline__native-country_Yugoslavia</th>\n",
       "    </tr>\n",
       "  </thead>\n",
       "  <tbody>\n",
       "    <tr>\n",
       "      <th>0</th>\n",
       "      <td>2.287448</td>\n",
       "      <td>1.913796</td>\n",
       "      <td>0.199612</td>\n",
       "      <td>0.372429</td>\n",
       "      <td>-0.172626</td>\n",
       "      <td>-0.261533</td>\n",
       "      <td>-0.014315</td>\n",
       "      <td>0.573112</td>\n",
       "      <td>-0.190463</td>\n",
       "      <td>-0.292879</td>\n",
       "      <td>...</td>\n",
       "      <td>-0.038568</td>\n",
       "      <td>-0.060838</td>\n",
       "      <td>-0.020869</td>\n",
       "      <td>-0.050415</td>\n",
       "      <td>-0.035806</td>\n",
       "      <td>-0.024799</td>\n",
       "      <td>-0.023742</td>\n",
       "      <td>0.305027</td>\n",
       "      <td>-0.042979</td>\n",
       "      <td>-0.023742</td>\n",
       "    </tr>\n",
       "    <tr>\n",
       "      <th>1</th>\n",
       "      <td>-0.628180</td>\n",
       "      <td>-0.807172</td>\n",
       "      <td>-0.144226</td>\n",
       "      <td>0.291775</td>\n",
       "      <td>-0.172626</td>\n",
       "      <td>-0.261533</td>\n",
       "      <td>-0.014315</td>\n",
       "      <td>0.573112</td>\n",
       "      <td>-0.190463</td>\n",
       "      <td>-0.292879</td>\n",
       "      <td>...</td>\n",
       "      <td>-0.038568</td>\n",
       "      <td>-0.060838</td>\n",
       "      <td>-0.020869</td>\n",
       "      <td>-0.050415</td>\n",
       "      <td>-0.035806</td>\n",
       "      <td>-0.024799</td>\n",
       "      <td>-0.023742</td>\n",
       "      <td>0.305027</td>\n",
       "      <td>-0.042979</td>\n",
       "      <td>-0.023742</td>\n",
       "    </tr>\n",
       "    <tr>\n",
       "      <th>2</th>\n",
       "      <td>1.485650</td>\n",
       "      <td>1.136376</td>\n",
       "      <td>-0.144226</td>\n",
       "      <td>0.372429</td>\n",
       "      <td>-0.172626</td>\n",
       "      <td>-0.261533</td>\n",
       "      <td>-0.014315</td>\n",
       "      <td>0.573112</td>\n",
       "      <td>-0.190463</td>\n",
       "      <td>-0.292879</td>\n",
       "      <td>...</td>\n",
       "      <td>-0.038568</td>\n",
       "      <td>-0.060838</td>\n",
       "      <td>-0.020869</td>\n",
       "      <td>-0.050415</td>\n",
       "      <td>-0.035806</td>\n",
       "      <td>-0.024799</td>\n",
       "      <td>-0.023742</td>\n",
       "      <td>0.305027</td>\n",
       "      <td>-0.042979</td>\n",
       "      <td>-0.023742</td>\n",
       "    </tr>\n",
       "    <tr>\n",
       "      <th>3</th>\n",
       "      <td>-1.211305</td>\n",
       "      <td>-0.029753</td>\n",
       "      <td>-0.144226</td>\n",
       "      <td>-0.837387</td>\n",
       "      <td>-0.172626</td>\n",
       "      <td>-0.261533</td>\n",
       "      <td>-0.014315</td>\n",
       "      <td>0.573112</td>\n",
       "      <td>-0.190463</td>\n",
       "      <td>-0.292879</td>\n",
       "      <td>...</td>\n",
       "      <td>-0.038568</td>\n",
       "      <td>-0.060838</td>\n",
       "      <td>-0.020869</td>\n",
       "      <td>-0.050415</td>\n",
       "      <td>-0.035806</td>\n",
       "      <td>-0.024799</td>\n",
       "      <td>-0.023742</td>\n",
       "      <td>0.305027</td>\n",
       "      <td>-0.042979</td>\n",
       "      <td>-0.023742</td>\n",
       "    </tr>\n",
       "    <tr>\n",
       "      <th>4</th>\n",
       "      <td>-1.284196</td>\n",
       "      <td>-0.029753</td>\n",
       "      <td>-0.144226</td>\n",
       "      <td>-0.030843</td>\n",
       "      <td>-0.172626</td>\n",
       "      <td>3.823611</td>\n",
       "      <td>-0.014315</td>\n",
       "      <td>-1.744860</td>\n",
       "      <td>-0.190463</td>\n",
       "      <td>-0.292879</td>\n",
       "      <td>...</td>\n",
       "      <td>-0.038568</td>\n",
       "      <td>-0.060838</td>\n",
       "      <td>-0.020869</td>\n",
       "      <td>-0.050415</td>\n",
       "      <td>-0.035806</td>\n",
       "      <td>-0.024799</td>\n",
       "      <td>-0.023742</td>\n",
       "      <td>-3.278398</td>\n",
       "      <td>-0.042979</td>\n",
       "      <td>-0.023742</td>\n",
       "    </tr>\n",
       "    <tr>\n",
       "      <th>...</th>\n",
       "      <td>...</td>\n",
       "      <td>...</td>\n",
       "      <td>...</td>\n",
       "      <td>...</td>\n",
       "      <td>...</td>\n",
       "      <td>...</td>\n",
       "      <td>...</td>\n",
       "      <td>...</td>\n",
       "      <td>...</td>\n",
       "      <td>...</td>\n",
       "      <td>...</td>\n",
       "      <td>...</td>\n",
       "      <td>...</td>\n",
       "      <td>...</td>\n",
       "      <td>...</td>\n",
       "      <td>...</td>\n",
       "      <td>...</td>\n",
       "      <td>...</td>\n",
       "      <td>...</td>\n",
       "      <td>...</td>\n",
       "      <td>...</td>\n",
       "    </tr>\n",
       "    <tr>\n",
       "      <th>39045</th>\n",
       "      <td>-1.065524</td>\n",
       "      <td>-0.418463</td>\n",
       "      <td>-0.144226</td>\n",
       "      <td>-1.643931</td>\n",
       "      <td>-0.172626</td>\n",
       "      <td>-0.261533</td>\n",
       "      <td>-0.014315</td>\n",
       "      <td>-1.744860</td>\n",
       "      <td>-0.190463</td>\n",
       "      <td>-0.292879</td>\n",
       "      <td>...</td>\n",
       "      <td>-0.038568</td>\n",
       "      <td>-0.060838</td>\n",
       "      <td>-0.020869</td>\n",
       "      <td>-0.050415</td>\n",
       "      <td>-0.035806</td>\n",
       "      <td>-0.024799</td>\n",
       "      <td>-0.023742</td>\n",
       "      <td>0.305027</td>\n",
       "      <td>-0.042979</td>\n",
       "      <td>-0.023742</td>\n",
       "    </tr>\n",
       "    <tr>\n",
       "      <th>39046</th>\n",
       "      <td>0.975416</td>\n",
       "      <td>-0.418463</td>\n",
       "      <td>0.557269</td>\n",
       "      <td>-0.030843</td>\n",
       "      <td>-0.172626</td>\n",
       "      <td>-0.261533</td>\n",
       "      <td>-0.014315</td>\n",
       "      <td>0.573112</td>\n",
       "      <td>-0.190463</td>\n",
       "      <td>-0.292879</td>\n",
       "      <td>...</td>\n",
       "      <td>-0.038568</td>\n",
       "      <td>-0.060838</td>\n",
       "      <td>-0.020869</td>\n",
       "      <td>-0.050415</td>\n",
       "      <td>-0.035806</td>\n",
       "      <td>-0.024799</td>\n",
       "      <td>-0.023742</td>\n",
       "      <td>0.305027</td>\n",
       "      <td>-0.042979</td>\n",
       "      <td>-0.023742</td>\n",
       "    </tr>\n",
       "    <tr>\n",
       "      <th>39047</th>\n",
       "      <td>0.902525</td>\n",
       "      <td>-1.584592</td>\n",
       "      <td>-0.144226</td>\n",
       "      <td>1.582245</td>\n",
       "      <td>-0.172626</td>\n",
       "      <td>-0.261533</td>\n",
       "      <td>-0.014315</td>\n",
       "      <td>-1.744860</td>\n",
       "      <td>5.250353</td>\n",
       "      <td>-0.292879</td>\n",
       "      <td>...</td>\n",
       "      <td>-0.038568</td>\n",
       "      <td>-0.060838</td>\n",
       "      <td>-0.020869</td>\n",
       "      <td>-0.050415</td>\n",
       "      <td>-0.035806</td>\n",
       "      <td>-0.024799</td>\n",
       "      <td>-0.023742</td>\n",
       "      <td>0.305027</td>\n",
       "      <td>-0.042979</td>\n",
       "      <td>-0.023742</td>\n",
       "    </tr>\n",
       "    <tr>\n",
       "      <th>39048</th>\n",
       "      <td>-1.502868</td>\n",
       "      <td>-1.195882</td>\n",
       "      <td>-0.144226</td>\n",
       "      <td>-1.643931</td>\n",
       "      <td>-0.172626</td>\n",
       "      <td>-0.261533</td>\n",
       "      <td>-0.014315</td>\n",
       "      <td>0.573112</td>\n",
       "      <td>-0.190463</td>\n",
       "      <td>-0.292879</td>\n",
       "      <td>...</td>\n",
       "      <td>-0.038568</td>\n",
       "      <td>-0.060838</td>\n",
       "      <td>-0.020869</td>\n",
       "      <td>-0.050415</td>\n",
       "      <td>-0.035806</td>\n",
       "      <td>-0.024799</td>\n",
       "      <td>-0.023742</td>\n",
       "      <td>0.305027</td>\n",
       "      <td>-0.042979</td>\n",
       "      <td>-0.023742</td>\n",
       "    </tr>\n",
       "    <tr>\n",
       "      <th>39049</th>\n",
       "      <td>-0.336617</td>\n",
       "      <td>0.358957</td>\n",
       "      <td>-0.144226</td>\n",
       "      <td>0.775701</td>\n",
       "      <td>-0.172626</td>\n",
       "      <td>-0.261533</td>\n",
       "      <td>-0.014315</td>\n",
       "      <td>0.573112</td>\n",
       "      <td>-0.190463</td>\n",
       "      <td>-0.292879</td>\n",
       "      <td>...</td>\n",
       "      <td>-0.038568</td>\n",
       "      <td>-0.060838</td>\n",
       "      <td>-0.020869</td>\n",
       "      <td>-0.050415</td>\n",
       "      <td>-0.035806</td>\n",
       "      <td>-0.024799</td>\n",
       "      <td>-0.023742</td>\n",
       "      <td>0.305027</td>\n",
       "      <td>-0.042979</td>\n",
       "      <td>-0.023742</td>\n",
       "    </tr>\n",
       "  </tbody>\n",
       "</table>\n",
       "<p>39050 rows × 102 columns</p>\n",
       "</div>"
      ],
      "text/plain": [
       "       num_pipeline__age  num_pipeline__education-num  \\\n",
       "0               2.287448                     1.913796   \n",
       "1              -0.628180                    -0.807172   \n",
       "2               1.485650                     1.136376   \n",
       "3              -1.211305                    -0.029753   \n",
       "4              -1.284196                    -0.029753   \n",
       "...                  ...                          ...   \n",
       "39045          -1.065524                    -0.418463   \n",
       "39046           0.975416                    -0.418463   \n",
       "39047           0.902525                    -1.584592   \n",
       "39048          -1.502868                    -1.195882   \n",
       "39049          -0.336617                     0.358957   \n",
       "\n",
       "       num_pipeline__capital-gain  num_pipeline__hours-per-week  \\\n",
       "0                        0.199612                      0.372429   \n",
       "1                       -0.144226                      0.291775   \n",
       "2                       -0.144226                      0.372429   \n",
       "3                       -0.144226                     -0.837387   \n",
       "4                       -0.144226                     -0.030843   \n",
       "...                           ...                           ...   \n",
       "39045                   -0.144226                     -1.643931   \n",
       "39046                    0.557269                     -0.030843   \n",
       "39047                   -0.144226                      1.582245   \n",
       "39048                   -0.144226                     -1.643931   \n",
       "39049                   -0.144226                      0.775701   \n",
       "\n",
       "       cat_pipeline__workclass_Federal-gov  cat_pipeline__workclass_Local-gov  \\\n",
       "0                                -0.172626                          -0.261533   \n",
       "1                                -0.172626                          -0.261533   \n",
       "2                                -0.172626                          -0.261533   \n",
       "3                                -0.172626                          -0.261533   \n",
       "4                                -0.172626                           3.823611   \n",
       "...                                    ...                                ...   \n",
       "39045                            -0.172626                          -0.261533   \n",
       "39046                            -0.172626                          -0.261533   \n",
       "39047                            -0.172626                          -0.261533   \n",
       "39048                            -0.172626                          -0.261533   \n",
       "39049                            -0.172626                          -0.261533   \n",
       "\n",
       "       cat_pipeline__workclass_Never-worked  cat_pipeline__workclass_Private  \\\n",
       "0                                 -0.014315                         0.573112   \n",
       "1                                 -0.014315                         0.573112   \n",
       "2                                 -0.014315                         0.573112   \n",
       "3                                 -0.014315                         0.573112   \n",
       "4                                 -0.014315                        -1.744860   \n",
       "...                                     ...                              ...   \n",
       "39045                             -0.014315                        -1.744860   \n",
       "39046                             -0.014315                         0.573112   \n",
       "39047                             -0.014315                        -1.744860   \n",
       "39048                             -0.014315                         0.573112   \n",
       "39049                             -0.014315                         0.573112   \n",
       "\n",
       "       cat_pipeline__workclass_Self-emp-inc  \\\n",
       "0                                 -0.190463   \n",
       "1                                 -0.190463   \n",
       "2                                 -0.190463   \n",
       "3                                 -0.190463   \n",
       "4                                 -0.190463   \n",
       "...                                     ...   \n",
       "39045                             -0.190463   \n",
       "39046                             -0.190463   \n",
       "39047                              5.250353   \n",
       "39048                             -0.190463   \n",
       "39049                             -0.190463   \n",
       "\n",
       "       cat_pipeline__workclass_Self-emp-not-inc  ...  \\\n",
       "0                                     -0.292879  ...   \n",
       "1                                     -0.292879  ...   \n",
       "2                                     -0.292879  ...   \n",
       "3                                     -0.292879  ...   \n",
       "4                                     -0.292879  ...   \n",
       "...                                         ...  ...   \n",
       "39045                                 -0.292879  ...   \n",
       "39046                                 -0.292879  ...   \n",
       "39047                                 -0.292879  ...   \n",
       "39048                                 -0.292879  ...   \n",
       "39049                                 -0.292879  ...   \n",
       "\n",
       "       cat_pipeline__native-country_Portugal  \\\n",
       "0                                  -0.038568   \n",
       "1                                  -0.038568   \n",
       "2                                  -0.038568   \n",
       "3                                  -0.038568   \n",
       "4                                  -0.038568   \n",
       "...                                      ...   \n",
       "39045                              -0.038568   \n",
       "39046                              -0.038568   \n",
       "39047                              -0.038568   \n",
       "39048                              -0.038568   \n",
       "39049                              -0.038568   \n",
       "\n",
       "       cat_pipeline__native-country_Puerto-Rico  \\\n",
       "0                                     -0.060838   \n",
       "1                                     -0.060838   \n",
       "2                                     -0.060838   \n",
       "3                                     -0.060838   \n",
       "4                                     -0.060838   \n",
       "...                                         ...   \n",
       "39045                                 -0.060838   \n",
       "39046                                 -0.060838   \n",
       "39047                                 -0.060838   \n",
       "39048                                 -0.060838   \n",
       "39049                                 -0.060838   \n",
       "\n",
       "       cat_pipeline__native-country_Scotland  \\\n",
       "0                                  -0.020869   \n",
       "1                                  -0.020869   \n",
       "2                                  -0.020869   \n",
       "3                                  -0.020869   \n",
       "4                                  -0.020869   \n",
       "...                                      ...   \n",
       "39045                              -0.020869   \n",
       "39046                              -0.020869   \n",
       "39047                              -0.020869   \n",
       "39048                              -0.020869   \n",
       "39049                              -0.020869   \n",
       "\n",
       "       cat_pipeline__native-country_South  \\\n",
       "0                               -0.050415   \n",
       "1                               -0.050415   \n",
       "2                               -0.050415   \n",
       "3                               -0.050415   \n",
       "4                               -0.050415   \n",
       "...                                   ...   \n",
       "39045                           -0.050415   \n",
       "39046                           -0.050415   \n",
       "39047                           -0.050415   \n",
       "39048                           -0.050415   \n",
       "39049                           -0.050415   \n",
       "\n",
       "       cat_pipeline__native-country_Taiwan  \\\n",
       "0                                -0.035806   \n",
       "1                                -0.035806   \n",
       "2                                -0.035806   \n",
       "3                                -0.035806   \n",
       "4                                -0.035806   \n",
       "...                                    ...   \n",
       "39045                            -0.035806   \n",
       "39046                            -0.035806   \n",
       "39047                            -0.035806   \n",
       "39048                            -0.035806   \n",
       "39049                            -0.035806   \n",
       "\n",
       "       cat_pipeline__native-country_Thailand  \\\n",
       "0                                  -0.024799   \n",
       "1                                  -0.024799   \n",
       "2                                  -0.024799   \n",
       "3                                  -0.024799   \n",
       "4                                  -0.024799   \n",
       "...                                      ...   \n",
       "39045                              -0.024799   \n",
       "39046                              -0.024799   \n",
       "39047                              -0.024799   \n",
       "39048                              -0.024799   \n",
       "39049                              -0.024799   \n",
       "\n",
       "       cat_pipeline__native-country_Trinadad&Tobago  \\\n",
       "0                                         -0.023742   \n",
       "1                                         -0.023742   \n",
       "2                                         -0.023742   \n",
       "3                                         -0.023742   \n",
       "4                                         -0.023742   \n",
       "...                                             ...   \n",
       "39045                                     -0.023742   \n",
       "39046                                     -0.023742   \n",
       "39047                                     -0.023742   \n",
       "39048                                     -0.023742   \n",
       "39049                                     -0.023742   \n",
       "\n",
       "       cat_pipeline__native-country_United-States  \\\n",
       "0                                        0.305027   \n",
       "1                                        0.305027   \n",
       "2                                        0.305027   \n",
       "3                                        0.305027   \n",
       "4                                       -3.278398   \n",
       "...                                           ...   \n",
       "39045                                    0.305027   \n",
       "39046                                    0.305027   \n",
       "39047                                    0.305027   \n",
       "39048                                    0.305027   \n",
       "39049                                    0.305027   \n",
       "\n",
       "       cat_pipeline__native-country_Vietnam  \\\n",
       "0                                 -0.042979   \n",
       "1                                 -0.042979   \n",
       "2                                 -0.042979   \n",
       "3                                 -0.042979   \n",
       "4                                 -0.042979   \n",
       "...                                     ...   \n",
       "39045                             -0.042979   \n",
       "39046                             -0.042979   \n",
       "39047                             -0.042979   \n",
       "39048                             -0.042979   \n",
       "39049                             -0.042979   \n",
       "\n",
       "       cat_pipeline__native-country_Yugoslavia  \n",
       "0                                    -0.023742  \n",
       "1                                    -0.023742  \n",
       "2                                    -0.023742  \n",
       "3                                    -0.023742  \n",
       "4                                    -0.023742  \n",
       "...                                        ...  \n",
       "39045                                -0.023742  \n",
       "39046                                -0.023742  \n",
       "39047                                -0.023742  \n",
       "39048                                -0.023742  \n",
       "39049                                -0.023742  \n",
       "\n",
       "[39050 rows x 102 columns]"
      ]
     },
     "execution_count": 13,
     "metadata": {},
     "output_type": "execute_result"
    }
   ],
   "source": [
    "X_train"
   ]
  },
  {
   "cell_type": "code",
   "execution_count": 23,
   "metadata": {},
   "outputs": [
    {
     "data": {
      "text/plain": [
       "Index(['num_pipeline__age', 'num_pipeline__education-num',\n",
       "       'num_pipeline__capital-gain', 'num_pipeline__hours-per-week',\n",
       "       'cat_pipeline__workclass_Federal-gov',\n",
       "       'cat_pipeline__workclass_Local-gov',\n",
       "       'cat_pipeline__workclass_Never-worked',\n",
       "       'cat_pipeline__workclass_Private',\n",
       "       'cat_pipeline__workclass_Self-emp-inc',\n",
       "       'cat_pipeline__workclass_Self-emp-not-inc',\n",
       "       ...\n",
       "       'cat_pipeline__native-country_Portugal',\n",
       "       'cat_pipeline__native-country_Puerto-Rico',\n",
       "       'cat_pipeline__native-country_Scotland',\n",
       "       'cat_pipeline__native-country_South',\n",
       "       'cat_pipeline__native-country_Taiwan',\n",
       "       'cat_pipeline__native-country_Thailand',\n",
       "       'cat_pipeline__native-country_Trinadad&Tobago',\n",
       "       'cat_pipeline__native-country_United-States',\n",
       "       'cat_pipeline__native-country_Vietnam',\n",
       "       'cat_pipeline__native-country_Yugoslavia'],\n",
       "      dtype='object', length=102)"
      ]
     },
     "execution_count": 23,
     "metadata": {},
     "output_type": "execute_result"
    }
   ],
   "source": [
    "X_train.columns"
   ]
  },
  {
   "cell_type": "code",
   "execution_count": null,
   "metadata": {},
   "outputs": [],
   "source": []
  },
  {
   "cell_type": "code",
   "execution_count": 21,
   "metadata": {},
   "outputs": [
    {
     "ename": "ValueError",
     "evalue": "Found unknown categories ['Holand-Netherlands'] in column 7 during transform",
     "output_type": "error",
     "traceback": [
      "\u001b[1;31m---------------------------------------------------------------------------\u001b[0m",
      "\u001b[1;31mValueError\u001b[0m                                Traceback (most recent call last)",
      "Cell \u001b[1;32mIn[21], line 1\u001b[0m\n\u001b[1;32m----> 1\u001b[0m X_test \u001b[38;5;241m=\u001b[39m pd\u001b[38;5;241m.\u001b[39mDataFrame(\u001b[43mpreprocessor\u001b[49m\u001b[38;5;241;43m.\u001b[39;49m\u001b[43mtransform\u001b[49m\u001b[43m(\u001b[49m\u001b[43mX_test\u001b[49m\u001b[43m)\u001b[49m)\n",
      "File \u001b[1;32md:\\iNeuronPyTasks\\ML Project\\CensusIncomePrediction\\censusenv\\lib\\site-packages\\sklearn\\utils\\_set_output.py:157\u001b[0m, in \u001b[0;36m_wrap_method_output.<locals>.wrapped\u001b[1;34m(self, X, *args, **kwargs)\u001b[0m\n\u001b[0;32m    155\u001b[0m \u001b[38;5;129m@wraps\u001b[39m(f)\n\u001b[0;32m    156\u001b[0m \u001b[38;5;28;01mdef\u001b[39;00m \u001b[38;5;21mwrapped\u001b[39m(\u001b[38;5;28mself\u001b[39m, X, \u001b[38;5;241m*\u001b[39margs, \u001b[38;5;241m*\u001b[39m\u001b[38;5;241m*\u001b[39mkwargs):\n\u001b[1;32m--> 157\u001b[0m     data_to_wrap \u001b[38;5;241m=\u001b[39m \u001b[43mf\u001b[49m\u001b[43m(\u001b[49m\u001b[38;5;28;43mself\u001b[39;49m\u001b[43m,\u001b[49m\u001b[43m \u001b[49m\u001b[43mX\u001b[49m\u001b[43m,\u001b[49m\u001b[43m \u001b[49m\u001b[38;5;241;43m*\u001b[39;49m\u001b[43margs\u001b[49m\u001b[43m,\u001b[49m\u001b[43m \u001b[49m\u001b[38;5;241;43m*\u001b[39;49m\u001b[38;5;241;43m*\u001b[39;49m\u001b[43mkwargs\u001b[49m\u001b[43m)\u001b[49m\n\u001b[0;32m    158\u001b[0m     \u001b[38;5;28;01mif\u001b[39;00m \u001b[38;5;28misinstance\u001b[39m(data_to_wrap, \u001b[38;5;28mtuple\u001b[39m):\n\u001b[0;32m    159\u001b[0m         \u001b[38;5;66;03m# only wrap the first output for cross decomposition\u001b[39;00m\n\u001b[0;32m    160\u001b[0m         return_tuple \u001b[38;5;241m=\u001b[39m (\n\u001b[0;32m    161\u001b[0m             _wrap_data_with_container(method, data_to_wrap[\u001b[38;5;241m0\u001b[39m], X, \u001b[38;5;28mself\u001b[39m),\n\u001b[0;32m    162\u001b[0m             \u001b[38;5;241m*\u001b[39mdata_to_wrap[\u001b[38;5;241m1\u001b[39m:],\n\u001b[0;32m    163\u001b[0m         )\n",
      "File \u001b[1;32md:\\iNeuronPyTasks\\ML Project\\CensusIncomePrediction\\censusenv\\lib\\site-packages\\sklearn\\compose\\_column_transformer.py:827\u001b[0m, in \u001b[0;36mColumnTransformer.transform\u001b[1;34m(self, X)\u001b[0m\n\u001b[0;32m    822\u001b[0m \u001b[38;5;28;01melse\u001b[39;00m:\n\u001b[0;32m    823\u001b[0m     \u001b[38;5;66;03m# ndarray was used for fitting or transforming, thus we only\u001b[39;00m\n\u001b[0;32m    824\u001b[0m     \u001b[38;5;66;03m# check that n_features_in_ is consistent\u001b[39;00m\n\u001b[0;32m    825\u001b[0m     \u001b[38;5;28mself\u001b[39m\u001b[38;5;241m.\u001b[39m_check_n_features(X, reset\u001b[38;5;241m=\u001b[39m\u001b[38;5;28;01mFalse\u001b[39;00m)\n\u001b[1;32m--> 827\u001b[0m Xs \u001b[38;5;241m=\u001b[39m \u001b[38;5;28;43mself\u001b[39;49m\u001b[38;5;241;43m.\u001b[39;49m\u001b[43m_fit_transform\u001b[49m\u001b[43m(\u001b[49m\n\u001b[0;32m    828\u001b[0m \u001b[43m    \u001b[49m\u001b[43mX\u001b[49m\u001b[43m,\u001b[49m\n\u001b[0;32m    829\u001b[0m \u001b[43m    \u001b[49m\u001b[38;5;28;43;01mNone\u001b[39;49;00m\u001b[43m,\u001b[49m\n\u001b[0;32m    830\u001b[0m \u001b[43m    \u001b[49m\u001b[43m_transform_one\u001b[49m\u001b[43m,\u001b[49m\n\u001b[0;32m    831\u001b[0m \u001b[43m    \u001b[49m\u001b[43mfitted\u001b[49m\u001b[38;5;241;43m=\u001b[39;49m\u001b[38;5;28;43;01mTrue\u001b[39;49;00m\u001b[43m,\u001b[49m\n\u001b[0;32m    832\u001b[0m \u001b[43m    \u001b[49m\u001b[43mcolumn_as_strings\u001b[49m\u001b[38;5;241;43m=\u001b[39;49m\u001b[43mfit_dataframe_and_transform_dataframe\u001b[49m\u001b[43m,\u001b[49m\n\u001b[0;32m    833\u001b[0m \u001b[43m\u001b[49m\u001b[43m)\u001b[49m\n\u001b[0;32m    834\u001b[0m \u001b[38;5;28mself\u001b[39m\u001b[38;5;241m.\u001b[39m_validate_output(Xs)\n\u001b[0;32m    836\u001b[0m \u001b[38;5;28;01mif\u001b[39;00m \u001b[38;5;129;01mnot\u001b[39;00m Xs:\n\u001b[0;32m    837\u001b[0m     \u001b[38;5;66;03m# All transformers are None\u001b[39;00m\n",
      "File \u001b[1;32md:\\iNeuronPyTasks\\ML Project\\CensusIncomePrediction\\censusenv\\lib\\site-packages\\sklearn\\compose\\_column_transformer.py:681\u001b[0m, in \u001b[0;36mColumnTransformer._fit_transform\u001b[1;34m(self, X, y, func, fitted, column_as_strings)\u001b[0m\n\u001b[0;32m    675\u001b[0m transformers \u001b[38;5;241m=\u001b[39m \u001b[38;5;28mlist\u001b[39m(\n\u001b[0;32m    676\u001b[0m     \u001b[38;5;28mself\u001b[39m\u001b[38;5;241m.\u001b[39m_iter(\n\u001b[0;32m    677\u001b[0m         fitted\u001b[38;5;241m=\u001b[39mfitted, replace_strings\u001b[38;5;241m=\u001b[39m\u001b[38;5;28;01mTrue\u001b[39;00m, column_as_strings\u001b[38;5;241m=\u001b[39mcolumn_as_strings\n\u001b[0;32m    678\u001b[0m     )\n\u001b[0;32m    679\u001b[0m )\n\u001b[0;32m    680\u001b[0m \u001b[38;5;28;01mtry\u001b[39;00m:\n\u001b[1;32m--> 681\u001b[0m     \u001b[38;5;28;01mreturn\u001b[39;00m \u001b[43mParallel\u001b[49m\u001b[43m(\u001b[49m\u001b[43mn_jobs\u001b[49m\u001b[38;5;241;43m=\u001b[39;49m\u001b[38;5;28;43mself\u001b[39;49m\u001b[38;5;241;43m.\u001b[39;49m\u001b[43mn_jobs\u001b[49m\u001b[43m)\u001b[49m\u001b[43m(\u001b[49m\n\u001b[0;32m    682\u001b[0m \u001b[43m        \u001b[49m\u001b[43mdelayed\u001b[49m\u001b[43m(\u001b[49m\u001b[43mfunc\u001b[49m\u001b[43m)\u001b[49m\u001b[43m(\u001b[49m\n\u001b[0;32m    683\u001b[0m \u001b[43m            \u001b[49m\u001b[43mtransformer\u001b[49m\u001b[38;5;241;43m=\u001b[39;49m\u001b[43mclone\u001b[49m\u001b[43m(\u001b[49m\u001b[43mtrans\u001b[49m\u001b[43m)\u001b[49m\u001b[43m \u001b[49m\u001b[38;5;28;43;01mif\u001b[39;49;00m\u001b[43m \u001b[49m\u001b[38;5;129;43;01mnot\u001b[39;49;00m\u001b[43m \u001b[49m\u001b[43mfitted\u001b[49m\u001b[43m \u001b[49m\u001b[38;5;28;43;01melse\u001b[39;49;00m\u001b[43m \u001b[49m\u001b[43mtrans\u001b[49m\u001b[43m,\u001b[49m\n\u001b[0;32m    684\u001b[0m \u001b[43m            \u001b[49m\u001b[43mX\u001b[49m\u001b[38;5;241;43m=\u001b[39;49m\u001b[43m_safe_indexing\u001b[49m\u001b[43m(\u001b[49m\u001b[43mX\u001b[49m\u001b[43m,\u001b[49m\u001b[43m \u001b[49m\u001b[43mcolumn\u001b[49m\u001b[43m,\u001b[49m\u001b[43m \u001b[49m\u001b[43maxis\u001b[49m\u001b[38;5;241;43m=\u001b[39;49m\u001b[38;5;241;43m1\u001b[39;49m\u001b[43m)\u001b[49m\u001b[43m,\u001b[49m\n\u001b[0;32m    685\u001b[0m \u001b[43m            \u001b[49m\u001b[43my\u001b[49m\u001b[38;5;241;43m=\u001b[39;49m\u001b[43my\u001b[49m\u001b[43m,\u001b[49m\n\u001b[0;32m    686\u001b[0m \u001b[43m            \u001b[49m\u001b[43mweight\u001b[49m\u001b[38;5;241;43m=\u001b[39;49m\u001b[43mweight\u001b[49m\u001b[43m,\u001b[49m\n\u001b[0;32m    687\u001b[0m \u001b[43m            \u001b[49m\u001b[43mmessage_clsname\u001b[49m\u001b[38;5;241;43m=\u001b[39;49m\u001b[38;5;124;43m\"\u001b[39;49m\u001b[38;5;124;43mColumnTransformer\u001b[39;49m\u001b[38;5;124;43m\"\u001b[39;49m\u001b[43m,\u001b[49m\n\u001b[0;32m    688\u001b[0m \u001b[43m            \u001b[49m\u001b[43mmessage\u001b[49m\u001b[38;5;241;43m=\u001b[39;49m\u001b[38;5;28;43mself\u001b[39;49m\u001b[38;5;241;43m.\u001b[39;49m\u001b[43m_log_message\u001b[49m\u001b[43m(\u001b[49m\u001b[43mname\u001b[49m\u001b[43m,\u001b[49m\u001b[43m \u001b[49m\u001b[43midx\u001b[49m\u001b[43m,\u001b[49m\u001b[43m \u001b[49m\u001b[38;5;28;43mlen\u001b[39;49m\u001b[43m(\u001b[49m\u001b[43mtransformers\u001b[49m\u001b[43m)\u001b[49m\u001b[43m)\u001b[49m\u001b[43m,\u001b[49m\n\u001b[0;32m    689\u001b[0m \u001b[43m        \u001b[49m\u001b[43m)\u001b[49m\n\u001b[0;32m    690\u001b[0m \u001b[43m        \u001b[49m\u001b[38;5;28;43;01mfor\u001b[39;49;00m\u001b[43m \u001b[49m\u001b[43midx\u001b[49m\u001b[43m,\u001b[49m\u001b[43m \u001b[49m\u001b[43m(\u001b[49m\u001b[43mname\u001b[49m\u001b[43m,\u001b[49m\u001b[43m \u001b[49m\u001b[43mtrans\u001b[49m\u001b[43m,\u001b[49m\u001b[43m \u001b[49m\u001b[43mcolumn\u001b[49m\u001b[43m,\u001b[49m\u001b[43m \u001b[49m\u001b[43mweight\u001b[49m\u001b[43m)\u001b[49m\u001b[43m \u001b[49m\u001b[38;5;129;43;01min\u001b[39;49;00m\u001b[43m \u001b[49m\u001b[38;5;28;43menumerate\u001b[39;49m\u001b[43m(\u001b[49m\u001b[43mtransformers\u001b[49m\u001b[43m,\u001b[49m\u001b[43m \u001b[49m\u001b[38;5;241;43m1\u001b[39;49m\u001b[43m)\u001b[49m\n\u001b[0;32m    691\u001b[0m \u001b[43m    \u001b[49m\u001b[43m)\u001b[49m\n\u001b[0;32m    692\u001b[0m \u001b[38;5;28;01mexcept\u001b[39;00m \u001b[38;5;167;01mValueError\u001b[39;00m \u001b[38;5;28;01mas\u001b[39;00m e:\n\u001b[0;32m    693\u001b[0m     \u001b[38;5;28;01mif\u001b[39;00m \u001b[38;5;124m\"\u001b[39m\u001b[38;5;124mExpected 2D array, got 1D array instead\u001b[39m\u001b[38;5;124m\"\u001b[39m \u001b[38;5;129;01min\u001b[39;00m \u001b[38;5;28mstr\u001b[39m(e):\n",
      "File \u001b[1;32md:\\iNeuronPyTasks\\ML Project\\CensusIncomePrediction\\censusenv\\lib\\site-packages\\sklearn\\utils\\parallel.py:65\u001b[0m, in \u001b[0;36mParallel.__call__\u001b[1;34m(self, iterable)\u001b[0m\n\u001b[0;32m     60\u001b[0m config \u001b[38;5;241m=\u001b[39m get_config()\n\u001b[0;32m     61\u001b[0m iterable_with_config \u001b[38;5;241m=\u001b[39m (\n\u001b[0;32m     62\u001b[0m     (_with_config(delayed_func, config), args, kwargs)\n\u001b[0;32m     63\u001b[0m     \u001b[38;5;28;01mfor\u001b[39;00m delayed_func, args, kwargs \u001b[38;5;129;01min\u001b[39;00m iterable\n\u001b[0;32m     64\u001b[0m )\n\u001b[1;32m---> 65\u001b[0m \u001b[38;5;28;01mreturn\u001b[39;00m \u001b[38;5;28;43msuper\u001b[39;49m\u001b[43m(\u001b[49m\u001b[43m)\u001b[49m\u001b[38;5;241;43m.\u001b[39;49m\u001b[38;5;21;43m__call__\u001b[39;49m\u001b[43m(\u001b[49m\u001b[43miterable_with_config\u001b[49m\u001b[43m)\u001b[49m\n",
      "File \u001b[1;32md:\\iNeuronPyTasks\\ML Project\\CensusIncomePrediction\\censusenv\\lib\\site-packages\\joblib\\parallel.py:1918\u001b[0m, in \u001b[0;36mParallel.__call__\u001b[1;34m(self, iterable)\u001b[0m\n\u001b[0;32m   1916\u001b[0m     output \u001b[38;5;241m=\u001b[39m \u001b[38;5;28mself\u001b[39m\u001b[38;5;241m.\u001b[39m_get_sequential_output(iterable)\n\u001b[0;32m   1917\u001b[0m     \u001b[38;5;28mnext\u001b[39m(output)\n\u001b[1;32m-> 1918\u001b[0m     \u001b[38;5;28;01mreturn\u001b[39;00m output \u001b[38;5;28;01mif\u001b[39;00m \u001b[38;5;28mself\u001b[39m\u001b[38;5;241m.\u001b[39mreturn_generator \u001b[38;5;28;01melse\u001b[39;00m \u001b[38;5;28;43mlist\u001b[39;49m\u001b[43m(\u001b[49m\u001b[43moutput\u001b[49m\u001b[43m)\u001b[49m\n\u001b[0;32m   1920\u001b[0m \u001b[38;5;66;03m# Let's create an ID that uniquely identifies the current call. If the\u001b[39;00m\n\u001b[0;32m   1921\u001b[0m \u001b[38;5;66;03m# call is interrupted early and that the same instance is immediately\u001b[39;00m\n\u001b[0;32m   1922\u001b[0m \u001b[38;5;66;03m# re-used, this id will be used to prevent workers that were\u001b[39;00m\n\u001b[0;32m   1923\u001b[0m \u001b[38;5;66;03m# concurrently finalizing a task from the previous call to run the\u001b[39;00m\n\u001b[0;32m   1924\u001b[0m \u001b[38;5;66;03m# callback.\u001b[39;00m\n\u001b[0;32m   1925\u001b[0m \u001b[38;5;28;01mwith\u001b[39;00m \u001b[38;5;28mself\u001b[39m\u001b[38;5;241m.\u001b[39m_lock:\n",
      "File \u001b[1;32md:\\iNeuronPyTasks\\ML Project\\CensusIncomePrediction\\censusenv\\lib\\site-packages\\joblib\\parallel.py:1847\u001b[0m, in \u001b[0;36mParallel._get_sequential_output\u001b[1;34m(self, iterable)\u001b[0m\n\u001b[0;32m   1845\u001b[0m \u001b[38;5;28mself\u001b[39m\u001b[38;5;241m.\u001b[39mn_dispatched_batches \u001b[38;5;241m+\u001b[39m\u001b[38;5;241m=\u001b[39m \u001b[38;5;241m1\u001b[39m\n\u001b[0;32m   1846\u001b[0m \u001b[38;5;28mself\u001b[39m\u001b[38;5;241m.\u001b[39mn_dispatched_tasks \u001b[38;5;241m+\u001b[39m\u001b[38;5;241m=\u001b[39m \u001b[38;5;241m1\u001b[39m\n\u001b[1;32m-> 1847\u001b[0m res \u001b[38;5;241m=\u001b[39m \u001b[43mfunc\u001b[49m\u001b[43m(\u001b[49m\u001b[38;5;241;43m*\u001b[39;49m\u001b[43margs\u001b[49m\u001b[43m,\u001b[49m\u001b[43m \u001b[49m\u001b[38;5;241;43m*\u001b[39;49m\u001b[38;5;241;43m*\u001b[39;49m\u001b[43mkwargs\u001b[49m\u001b[43m)\u001b[49m\n\u001b[0;32m   1848\u001b[0m \u001b[38;5;28mself\u001b[39m\u001b[38;5;241m.\u001b[39mn_completed_tasks \u001b[38;5;241m+\u001b[39m\u001b[38;5;241m=\u001b[39m \u001b[38;5;241m1\u001b[39m\n\u001b[0;32m   1849\u001b[0m \u001b[38;5;28mself\u001b[39m\u001b[38;5;241m.\u001b[39mprint_progress()\n",
      "File \u001b[1;32md:\\iNeuronPyTasks\\ML Project\\CensusIncomePrediction\\censusenv\\lib\\site-packages\\sklearn\\utils\\parallel.py:127\u001b[0m, in \u001b[0;36m_FuncWrapper.__call__\u001b[1;34m(self, *args, **kwargs)\u001b[0m\n\u001b[0;32m    125\u001b[0m     config \u001b[38;5;241m=\u001b[39m {}\n\u001b[0;32m    126\u001b[0m \u001b[38;5;28;01mwith\u001b[39;00m config_context(\u001b[38;5;241m*\u001b[39m\u001b[38;5;241m*\u001b[39mconfig):\n\u001b[1;32m--> 127\u001b[0m     \u001b[38;5;28;01mreturn\u001b[39;00m \u001b[38;5;28;43mself\u001b[39;49m\u001b[38;5;241;43m.\u001b[39;49m\u001b[43mfunction\u001b[49m\u001b[43m(\u001b[49m\u001b[38;5;241;43m*\u001b[39;49m\u001b[43margs\u001b[49m\u001b[43m,\u001b[49m\u001b[43m \u001b[49m\u001b[38;5;241;43m*\u001b[39;49m\u001b[38;5;241;43m*\u001b[39;49m\u001b[43mkwargs\u001b[49m\u001b[43m)\u001b[49m\n",
      "File \u001b[1;32md:\\iNeuronPyTasks\\ML Project\\CensusIncomePrediction\\censusenv\\lib\\site-packages\\sklearn\\pipeline.py:940\u001b[0m, in \u001b[0;36m_transform_one\u001b[1;34m(transformer, X, y, weight, **fit_params)\u001b[0m\n\u001b[0;32m    939\u001b[0m \u001b[38;5;28;01mdef\u001b[39;00m \u001b[38;5;21m_transform_one\u001b[39m(transformer, X, y, weight, \u001b[38;5;241m*\u001b[39m\u001b[38;5;241m*\u001b[39mfit_params):\n\u001b[1;32m--> 940\u001b[0m     res \u001b[38;5;241m=\u001b[39m \u001b[43mtransformer\u001b[49m\u001b[38;5;241;43m.\u001b[39;49m\u001b[43mtransform\u001b[49m\u001b[43m(\u001b[49m\u001b[43mX\u001b[49m\u001b[43m)\u001b[49m\n\u001b[0;32m    941\u001b[0m     \u001b[38;5;66;03m# if we have a weight for this transformer, multiply output\u001b[39;00m\n\u001b[0;32m    942\u001b[0m     \u001b[38;5;28;01mif\u001b[39;00m weight \u001b[38;5;129;01mis\u001b[39;00m \u001b[38;5;28;01mNone\u001b[39;00m:\n",
      "File \u001b[1;32md:\\iNeuronPyTasks\\ML Project\\CensusIncomePrediction\\censusenv\\lib\\site-packages\\sklearn\\pipeline.py:696\u001b[0m, in \u001b[0;36mPipeline.transform\u001b[1;34m(self, X)\u001b[0m\n\u001b[0;32m    694\u001b[0m Xt \u001b[38;5;241m=\u001b[39m X\n\u001b[0;32m    695\u001b[0m \u001b[38;5;28;01mfor\u001b[39;00m _, _, transform \u001b[38;5;129;01min\u001b[39;00m \u001b[38;5;28mself\u001b[39m\u001b[38;5;241m.\u001b[39m_iter():\n\u001b[1;32m--> 696\u001b[0m     Xt \u001b[38;5;241m=\u001b[39m \u001b[43mtransform\u001b[49m\u001b[38;5;241;43m.\u001b[39;49m\u001b[43mtransform\u001b[49m\u001b[43m(\u001b[49m\u001b[43mXt\u001b[49m\u001b[43m)\u001b[49m\n\u001b[0;32m    697\u001b[0m \u001b[38;5;28;01mreturn\u001b[39;00m Xt\n",
      "File \u001b[1;32md:\\iNeuronPyTasks\\ML Project\\CensusIncomePrediction\\censusenv\\lib\\site-packages\\sklearn\\utils\\_set_output.py:157\u001b[0m, in \u001b[0;36m_wrap_method_output.<locals>.wrapped\u001b[1;34m(self, X, *args, **kwargs)\u001b[0m\n\u001b[0;32m    155\u001b[0m \u001b[38;5;129m@wraps\u001b[39m(f)\n\u001b[0;32m    156\u001b[0m \u001b[38;5;28;01mdef\u001b[39;00m \u001b[38;5;21mwrapped\u001b[39m(\u001b[38;5;28mself\u001b[39m, X, \u001b[38;5;241m*\u001b[39margs, \u001b[38;5;241m*\u001b[39m\u001b[38;5;241m*\u001b[39mkwargs):\n\u001b[1;32m--> 157\u001b[0m     data_to_wrap \u001b[38;5;241m=\u001b[39m \u001b[43mf\u001b[49m\u001b[43m(\u001b[49m\u001b[38;5;28;43mself\u001b[39;49m\u001b[43m,\u001b[49m\u001b[43m \u001b[49m\u001b[43mX\u001b[49m\u001b[43m,\u001b[49m\u001b[43m \u001b[49m\u001b[38;5;241;43m*\u001b[39;49m\u001b[43margs\u001b[49m\u001b[43m,\u001b[49m\u001b[43m \u001b[49m\u001b[38;5;241;43m*\u001b[39;49m\u001b[38;5;241;43m*\u001b[39;49m\u001b[43mkwargs\u001b[49m\u001b[43m)\u001b[49m\n\u001b[0;32m    158\u001b[0m     \u001b[38;5;28;01mif\u001b[39;00m \u001b[38;5;28misinstance\u001b[39m(data_to_wrap, \u001b[38;5;28mtuple\u001b[39m):\n\u001b[0;32m    159\u001b[0m         \u001b[38;5;66;03m# only wrap the first output for cross decomposition\u001b[39;00m\n\u001b[0;32m    160\u001b[0m         return_tuple \u001b[38;5;241m=\u001b[39m (\n\u001b[0;32m    161\u001b[0m             _wrap_data_with_container(method, data_to_wrap[\u001b[38;5;241m0\u001b[39m], X, \u001b[38;5;28mself\u001b[39m),\n\u001b[0;32m    162\u001b[0m             \u001b[38;5;241m*\u001b[39mdata_to_wrap[\u001b[38;5;241m1\u001b[39m:],\n\u001b[0;32m    163\u001b[0m         )\n",
      "File \u001b[1;32md:\\iNeuronPyTasks\\ML Project\\CensusIncomePrediction\\censusenv\\lib\\site-packages\\sklearn\\preprocessing\\_encoders.py:1027\u001b[0m, in \u001b[0;36mOneHotEncoder.transform\u001b[1;34m(self, X)\u001b[0m\n\u001b[0;32m   1022\u001b[0m \u001b[38;5;66;03m# validation of X happens in _check_X called by _transform\u001b[39;00m\n\u001b[0;32m   1023\u001b[0m warn_on_unknown \u001b[38;5;241m=\u001b[39m \u001b[38;5;28mself\u001b[39m\u001b[38;5;241m.\u001b[39mdrop \u001b[38;5;129;01mis\u001b[39;00m \u001b[38;5;129;01mnot\u001b[39;00m \u001b[38;5;28;01mNone\u001b[39;00m \u001b[38;5;129;01mand\u001b[39;00m \u001b[38;5;28mself\u001b[39m\u001b[38;5;241m.\u001b[39mhandle_unknown \u001b[38;5;129;01min\u001b[39;00m {\n\u001b[0;32m   1024\u001b[0m     \u001b[38;5;124m\"\u001b[39m\u001b[38;5;124mignore\u001b[39m\u001b[38;5;124m\"\u001b[39m,\n\u001b[0;32m   1025\u001b[0m     \u001b[38;5;124m\"\u001b[39m\u001b[38;5;124minfrequent_if_exist\u001b[39m\u001b[38;5;124m\"\u001b[39m,\n\u001b[0;32m   1026\u001b[0m }\n\u001b[1;32m-> 1027\u001b[0m X_int, X_mask \u001b[38;5;241m=\u001b[39m \u001b[38;5;28;43mself\u001b[39;49m\u001b[38;5;241;43m.\u001b[39;49m\u001b[43m_transform\u001b[49m\u001b[43m(\u001b[49m\n\u001b[0;32m   1028\u001b[0m \u001b[43m    \u001b[49m\u001b[43mX\u001b[49m\u001b[43m,\u001b[49m\n\u001b[0;32m   1029\u001b[0m \u001b[43m    \u001b[49m\u001b[43mhandle_unknown\u001b[49m\u001b[38;5;241;43m=\u001b[39;49m\u001b[38;5;28;43mself\u001b[39;49m\u001b[38;5;241;43m.\u001b[39;49m\u001b[43mhandle_unknown\u001b[49m\u001b[43m,\u001b[49m\n\u001b[0;32m   1030\u001b[0m \u001b[43m    \u001b[49m\u001b[43mforce_all_finite\u001b[49m\u001b[38;5;241;43m=\u001b[39;49m\u001b[38;5;124;43m\"\u001b[39;49m\u001b[38;5;124;43mallow-nan\u001b[39;49m\u001b[38;5;124;43m\"\u001b[39;49m\u001b[43m,\u001b[49m\n\u001b[0;32m   1031\u001b[0m \u001b[43m    \u001b[49m\u001b[43mwarn_on_unknown\u001b[49m\u001b[38;5;241;43m=\u001b[39;49m\u001b[43mwarn_on_unknown\u001b[49m\u001b[43m,\u001b[49m\n\u001b[0;32m   1032\u001b[0m \u001b[43m\u001b[49m\u001b[43m)\u001b[49m\n\u001b[0;32m   1034\u001b[0m n_samples, n_features \u001b[38;5;241m=\u001b[39m X_int\u001b[38;5;241m.\u001b[39mshape\n\u001b[0;32m   1036\u001b[0m \u001b[38;5;28;01mif\u001b[39;00m \u001b[38;5;28mself\u001b[39m\u001b[38;5;241m.\u001b[39m_drop_idx_after_grouping \u001b[38;5;129;01mis\u001b[39;00m \u001b[38;5;129;01mnot\u001b[39;00m \u001b[38;5;28;01mNone\u001b[39;00m:\n",
      "File \u001b[1;32md:\\iNeuronPyTasks\\ML Project\\CensusIncomePrediction\\censusenv\\lib\\site-packages\\sklearn\\preprocessing\\_encoders.py:200\u001b[0m, in \u001b[0;36m_BaseEncoder._transform\u001b[1;34m(self, X, handle_unknown, force_all_finite, warn_on_unknown, ignore_category_indices)\u001b[0m\n\u001b[0;32m    195\u001b[0m \u001b[38;5;28;01mif\u001b[39;00m handle_unknown \u001b[38;5;241m==\u001b[39m \u001b[38;5;124m\"\u001b[39m\u001b[38;5;124merror\u001b[39m\u001b[38;5;124m\"\u001b[39m:\n\u001b[0;32m    196\u001b[0m     msg \u001b[38;5;241m=\u001b[39m (\n\u001b[0;32m    197\u001b[0m         \u001b[38;5;124m\"\u001b[39m\u001b[38;5;124mFound unknown categories \u001b[39m\u001b[38;5;132;01m{0}\u001b[39;00m\u001b[38;5;124m in column \u001b[39m\u001b[38;5;132;01m{1}\u001b[39;00m\u001b[38;5;124m\"\u001b[39m\n\u001b[0;32m    198\u001b[0m         \u001b[38;5;124m\"\u001b[39m\u001b[38;5;124m during transform\u001b[39m\u001b[38;5;124m\"\u001b[39m\u001b[38;5;241m.\u001b[39mformat(diff, i)\n\u001b[0;32m    199\u001b[0m     )\n\u001b[1;32m--> 200\u001b[0m     \u001b[38;5;28;01mraise\u001b[39;00m \u001b[38;5;167;01mValueError\u001b[39;00m(msg)\n\u001b[0;32m    201\u001b[0m \u001b[38;5;28;01melse\u001b[39;00m:\n\u001b[0;32m    202\u001b[0m     \u001b[38;5;28;01mif\u001b[39;00m warn_on_unknown:\n",
      "\u001b[1;31mValueError\u001b[0m: Found unknown categories ['Holand-Netherlands'] in column 7 during transform"
     ]
    }
   ],
   "source": [
    "X_test = pd.DataFrame(preprocessor.transform(X_test))"
   ]
  },
  {
   "cell_type": "code",
   "execution_count": 27,
   "metadata": {},
   "outputs": [
    {
     "data": {
      "text/html": [
       "<div>\n",
       "<style scoped>\n",
       "    .dataframe tbody tr th:only-of-type {\n",
       "        vertical-align: middle;\n",
       "    }\n",
       "\n",
       "    .dataframe tbody tr th {\n",
       "        vertical-align: top;\n",
       "    }\n",
       "\n",
       "    .dataframe thead th {\n",
       "        text-align: right;\n",
       "    }\n",
       "</style>\n",
       "<table border=\"1\" class=\"dataframe\">\n",
       "  <thead>\n",
       "    <tr style=\"text-align: right;\">\n",
       "      <th></th>\n",
       "      <th>age</th>\n",
       "      <th>workclass</th>\n",
       "      <th>education</th>\n",
       "      <th>education-num</th>\n",
       "      <th>marital-status</th>\n",
       "      <th>occupation</th>\n",
       "      <th>relationship</th>\n",
       "      <th>race</th>\n",
       "      <th>sex</th>\n",
       "      <th>capital-gain</th>\n",
       "      <th>hours-per-week</th>\n",
       "      <th>native-country</th>\n",
       "    </tr>\n",
       "  </thead>\n",
       "  <tbody>\n",
       "    <tr>\n",
       "      <th>19600</th>\n",
       "      <td>32</td>\n",
       "      <td>Private</td>\n",
       "      <td>Some-college</td>\n",
       "      <td>10.0</td>\n",
       "      <td>Never-married</td>\n",
       "      <td>Machine-op-inspct</td>\n",
       "      <td>Other-relative</td>\n",
       "      <td>White</td>\n",
       "      <td>Female</td>\n",
       "      <td>0.0</td>\n",
       "      <td>40.0</td>\n",
       "      <td>Holand-Netherlands</td>\n",
       "    </tr>\n",
       "  </tbody>\n",
       "</table>\n",
       "</div>"
      ],
      "text/plain": [
       "       age workclass     education  education-num marital-status  \\\n",
       "19600   32   Private  Some-college           10.0  Never-married   \n",
       "\n",
       "              occupation    relationship   race     sex  capital-gain  \\\n",
       "19600  Machine-op-inspct  Other-relative  White  Female           0.0   \n",
       "\n",
       "       hours-per-week      native-country  \n",
       "19600            40.0  Holand-Netherlands  "
      ]
     },
     "execution_count": 27,
     "metadata": {},
     "output_type": "execute_result"
    }
   ],
   "source": [
    "X_test[X_test['native-country'] == \"Holand-Netherlands\"]"
   ]
  },
  {
   "cell_type": "code",
   "execution_count": 29,
   "metadata": {},
   "outputs": [],
   "source": [
    "X_test.drop(index=19600,inplace=True)"
   ]
  },
  {
   "cell_type": "code",
   "execution_count": 30,
   "metadata": {},
   "outputs": [
    {
     "data": {
      "text/html": [
       "<div>\n",
       "<style scoped>\n",
       "    .dataframe tbody tr th:only-of-type {\n",
       "        vertical-align: middle;\n",
       "    }\n",
       "\n",
       "    .dataframe tbody tr th {\n",
       "        vertical-align: top;\n",
       "    }\n",
       "\n",
       "    .dataframe thead th {\n",
       "        text-align: right;\n",
       "    }\n",
       "</style>\n",
       "<table border=\"1\" class=\"dataframe\">\n",
       "  <thead>\n",
       "    <tr style=\"text-align: right;\">\n",
       "      <th></th>\n",
       "      <th>age</th>\n",
       "      <th>workclass</th>\n",
       "      <th>education</th>\n",
       "      <th>education-num</th>\n",
       "      <th>marital-status</th>\n",
       "      <th>occupation</th>\n",
       "      <th>relationship</th>\n",
       "      <th>race</th>\n",
       "      <th>sex</th>\n",
       "      <th>capital-gain</th>\n",
       "      <th>hours-per-week</th>\n",
       "      <th>native-country</th>\n",
       "    </tr>\n",
       "  </thead>\n",
       "  <tbody>\n",
       "  </tbody>\n",
       "</table>\n",
       "</div>"
      ],
      "text/plain": [
       "Empty DataFrame\n",
       "Columns: [age, workclass, education, education-num, marital-status, occupation, relationship, race, sex, capital-gain, hours-per-week, native-country]\n",
       "Index: []"
      ]
     },
     "execution_count": 30,
     "metadata": {},
     "output_type": "execute_result"
    }
   ],
   "source": [
    "X_test[X_test['native-country'] == \"Holand-Netherlands\"]"
   ]
  },
  {
   "cell_type": "code",
   "execution_count": 31,
   "metadata": {},
   "outputs": [],
   "source": [
    "X_test = pd.DataFrame(preprocessor.transform(X_test),columns=preprocessor.get_feature_names_out())"
   ]
  },
  {
   "cell_type": "code",
   "execution_count": 32,
   "metadata": {},
   "outputs": [
    {
     "data": {
      "text/html": [
       "<div>\n",
       "<style scoped>\n",
       "    .dataframe tbody tr th:only-of-type {\n",
       "        vertical-align: middle;\n",
       "    }\n",
       "\n",
       "    .dataframe tbody tr th {\n",
       "        vertical-align: top;\n",
       "    }\n",
       "\n",
       "    .dataframe thead th {\n",
       "        text-align: right;\n",
       "    }\n",
       "</style>\n",
       "<table border=\"1\" class=\"dataframe\">\n",
       "  <thead>\n",
       "    <tr style=\"text-align: right;\">\n",
       "      <th></th>\n",
       "      <th>num_pipeline__age</th>\n",
       "      <th>num_pipeline__education-num</th>\n",
       "      <th>num_pipeline__capital-gain</th>\n",
       "      <th>num_pipeline__hours-per-week</th>\n",
       "      <th>cat_pipeline__workclass_Federal-gov</th>\n",
       "      <th>cat_pipeline__workclass_Local-gov</th>\n",
       "      <th>cat_pipeline__workclass_Never-worked</th>\n",
       "      <th>cat_pipeline__workclass_Private</th>\n",
       "      <th>cat_pipeline__workclass_Self-emp-inc</th>\n",
       "      <th>cat_pipeline__workclass_Self-emp-not-inc</th>\n",
       "      <th>...</th>\n",
       "      <th>cat_pipeline__native-country_Portugal</th>\n",
       "      <th>cat_pipeline__native-country_Puerto-Rico</th>\n",
       "      <th>cat_pipeline__native-country_Scotland</th>\n",
       "      <th>cat_pipeline__native-country_South</th>\n",
       "      <th>cat_pipeline__native-country_Taiwan</th>\n",
       "      <th>cat_pipeline__native-country_Thailand</th>\n",
       "      <th>cat_pipeline__native-country_Trinadad&amp;Tobago</th>\n",
       "      <th>cat_pipeline__native-country_United-States</th>\n",
       "      <th>cat_pipeline__native-country_Vietnam</th>\n",
       "      <th>cat_pipeline__native-country_Yugoslavia</th>\n",
       "    </tr>\n",
       "  </thead>\n",
       "  <tbody>\n",
       "    <tr>\n",
       "      <th>0</th>\n",
       "      <td>1.704322</td>\n",
       "      <td>-0.418463</td>\n",
       "      <td>-0.144226</td>\n",
       "      <td>-0.030843</td>\n",
       "      <td>-0.172626</td>\n",
       "      <td>-0.261533</td>\n",
       "      <td>-0.014315</td>\n",
       "      <td>0.573112</td>\n",
       "      <td>-0.190463</td>\n",
       "      <td>-0.292879</td>\n",
       "      <td>...</td>\n",
       "      <td>-0.038568</td>\n",
       "      <td>-0.060838</td>\n",
       "      <td>-0.020869</td>\n",
       "      <td>-0.050415</td>\n",
       "      <td>-0.035806</td>\n",
       "      <td>-0.024799</td>\n",
       "      <td>-0.023742</td>\n",
       "      <td>0.305027</td>\n",
       "      <td>-0.042979</td>\n",
       "      <td>-0.023742</td>\n",
       "    </tr>\n",
       "    <tr>\n",
       "      <th>1</th>\n",
       "      <td>-0.628180</td>\n",
       "      <td>-0.029753</td>\n",
       "      <td>-0.144226</td>\n",
       "      <td>-0.030843</td>\n",
       "      <td>-0.172626</td>\n",
       "      <td>-0.261533</td>\n",
       "      <td>-0.014315</td>\n",
       "      <td>0.573112</td>\n",
       "      <td>-0.190463</td>\n",
       "      <td>-0.292879</td>\n",
       "      <td>...</td>\n",
       "      <td>-0.038568</td>\n",
       "      <td>-0.060838</td>\n",
       "      <td>-0.020869</td>\n",
       "      <td>-0.050415</td>\n",
       "      <td>-0.035806</td>\n",
       "      <td>-0.024799</td>\n",
       "      <td>-0.023742</td>\n",
       "      <td>0.305027</td>\n",
       "      <td>-0.042979</td>\n",
       "      <td>-0.023742</td>\n",
       "    </tr>\n",
       "    <tr>\n",
       "      <th>2</th>\n",
       "      <td>0.538071</td>\n",
       "      <td>-0.029753</td>\n",
       "      <td>-0.144226</td>\n",
       "      <td>0.372429</td>\n",
       "      <td>-0.172626</td>\n",
       "      <td>-0.261533</td>\n",
       "      <td>-0.014315</td>\n",
       "      <td>0.573112</td>\n",
       "      <td>-0.190463</td>\n",
       "      <td>-0.292879</td>\n",
       "      <td>...</td>\n",
       "      <td>-0.038568</td>\n",
       "      <td>-0.060838</td>\n",
       "      <td>-0.020869</td>\n",
       "      <td>-0.050415</td>\n",
       "      <td>-0.035806</td>\n",
       "      <td>-0.024799</td>\n",
       "      <td>-0.023742</td>\n",
       "      <td>0.305027</td>\n",
       "      <td>-0.042979</td>\n",
       "      <td>-0.023742</td>\n",
       "    </tr>\n",
       "    <tr>\n",
       "      <th>3</th>\n",
       "      <td>0.173618</td>\n",
       "      <td>1.136376</td>\n",
       "      <td>-0.144226</td>\n",
       "      <td>-0.030843</td>\n",
       "      <td>-0.172626</td>\n",
       "      <td>-0.261533</td>\n",
       "      <td>-0.014315</td>\n",
       "      <td>0.573112</td>\n",
       "      <td>-0.190463</td>\n",
       "      <td>-0.292879</td>\n",
       "      <td>...</td>\n",
       "      <td>-0.038568</td>\n",
       "      <td>-0.060838</td>\n",
       "      <td>-0.020869</td>\n",
       "      <td>-0.050415</td>\n",
       "      <td>-0.035806</td>\n",
       "      <td>-0.024799</td>\n",
       "      <td>-0.023742</td>\n",
       "      <td>0.305027</td>\n",
       "      <td>-0.042979</td>\n",
       "      <td>-0.023742</td>\n",
       "    </tr>\n",
       "    <tr>\n",
       "      <th>4</th>\n",
       "      <td>-1.065524</td>\n",
       "      <td>-0.418463</td>\n",
       "      <td>-0.144226</td>\n",
       "      <td>-1.240659</td>\n",
       "      <td>-0.172626</td>\n",
       "      <td>-0.261533</td>\n",
       "      <td>-0.014315</td>\n",
       "      <td>0.573112</td>\n",
       "      <td>-0.190463</td>\n",
       "      <td>-0.292879</td>\n",
       "      <td>...</td>\n",
       "      <td>-0.038568</td>\n",
       "      <td>-0.060838</td>\n",
       "      <td>-0.020869</td>\n",
       "      <td>-0.050415</td>\n",
       "      <td>-0.035806</td>\n",
       "      <td>-0.024799</td>\n",
       "      <td>-0.023742</td>\n",
       "      <td>0.305027</td>\n",
       "      <td>-0.042979</td>\n",
       "      <td>-0.023742</td>\n",
       "    </tr>\n",
       "  </tbody>\n",
       "</table>\n",
       "<p>5 rows × 102 columns</p>\n",
       "</div>"
      ],
      "text/plain": [
       "   num_pipeline__age  num_pipeline__education-num  num_pipeline__capital-gain  \\\n",
       "0           1.704322                    -0.418463                   -0.144226   \n",
       "1          -0.628180                    -0.029753                   -0.144226   \n",
       "2           0.538071                    -0.029753                   -0.144226   \n",
       "3           0.173618                     1.136376                   -0.144226   \n",
       "4          -1.065524                    -0.418463                   -0.144226   \n",
       "\n",
       "   num_pipeline__hours-per-week  cat_pipeline__workclass_Federal-gov  \\\n",
       "0                     -0.030843                            -0.172626   \n",
       "1                     -0.030843                            -0.172626   \n",
       "2                      0.372429                            -0.172626   \n",
       "3                     -0.030843                            -0.172626   \n",
       "4                     -1.240659                            -0.172626   \n",
       "\n",
       "   cat_pipeline__workclass_Local-gov  cat_pipeline__workclass_Never-worked  \\\n",
       "0                          -0.261533                             -0.014315   \n",
       "1                          -0.261533                             -0.014315   \n",
       "2                          -0.261533                             -0.014315   \n",
       "3                          -0.261533                             -0.014315   \n",
       "4                          -0.261533                             -0.014315   \n",
       "\n",
       "   cat_pipeline__workclass_Private  cat_pipeline__workclass_Self-emp-inc  \\\n",
       "0                         0.573112                             -0.190463   \n",
       "1                         0.573112                             -0.190463   \n",
       "2                         0.573112                             -0.190463   \n",
       "3                         0.573112                             -0.190463   \n",
       "4                         0.573112                             -0.190463   \n",
       "\n",
       "   cat_pipeline__workclass_Self-emp-not-inc  ...  \\\n",
       "0                                 -0.292879  ...   \n",
       "1                                 -0.292879  ...   \n",
       "2                                 -0.292879  ...   \n",
       "3                                 -0.292879  ...   \n",
       "4                                 -0.292879  ...   \n",
       "\n",
       "   cat_pipeline__native-country_Portugal  \\\n",
       "0                              -0.038568   \n",
       "1                              -0.038568   \n",
       "2                              -0.038568   \n",
       "3                              -0.038568   \n",
       "4                              -0.038568   \n",
       "\n",
       "   cat_pipeline__native-country_Puerto-Rico  \\\n",
       "0                                 -0.060838   \n",
       "1                                 -0.060838   \n",
       "2                                 -0.060838   \n",
       "3                                 -0.060838   \n",
       "4                                 -0.060838   \n",
       "\n",
       "   cat_pipeline__native-country_Scotland  cat_pipeline__native-country_South  \\\n",
       "0                              -0.020869                           -0.050415   \n",
       "1                              -0.020869                           -0.050415   \n",
       "2                              -0.020869                           -0.050415   \n",
       "3                              -0.020869                           -0.050415   \n",
       "4                              -0.020869                           -0.050415   \n",
       "\n",
       "   cat_pipeline__native-country_Taiwan  cat_pipeline__native-country_Thailand  \\\n",
       "0                            -0.035806                              -0.024799   \n",
       "1                            -0.035806                              -0.024799   \n",
       "2                            -0.035806                              -0.024799   \n",
       "3                            -0.035806                              -0.024799   \n",
       "4                            -0.035806                              -0.024799   \n",
       "\n",
       "   cat_pipeline__native-country_Trinadad&Tobago  \\\n",
       "0                                     -0.023742   \n",
       "1                                     -0.023742   \n",
       "2                                     -0.023742   \n",
       "3                                     -0.023742   \n",
       "4                                     -0.023742   \n",
       "\n",
       "   cat_pipeline__native-country_United-States  \\\n",
       "0                                    0.305027   \n",
       "1                                    0.305027   \n",
       "2                                    0.305027   \n",
       "3                                    0.305027   \n",
       "4                                    0.305027   \n",
       "\n",
       "   cat_pipeline__native-country_Vietnam  \\\n",
       "0                             -0.042979   \n",
       "1                             -0.042979   \n",
       "2                             -0.042979   \n",
       "3                             -0.042979   \n",
       "4                             -0.042979   \n",
       "\n",
       "   cat_pipeline__native-country_Yugoslavia  \n",
       "0                                -0.023742  \n",
       "1                                -0.023742  \n",
       "2                                -0.023742  \n",
       "3                                -0.023742  \n",
       "4                                -0.023742  \n",
       "\n",
       "[5 rows x 102 columns]"
      ]
     },
     "execution_count": 32,
     "metadata": {},
     "output_type": "execute_result"
    }
   ],
   "source": [
    "X_test.head()"
   ]
  },
  {
   "cell_type": "code",
   "execution_count": 33,
   "metadata": {},
   "outputs": [],
   "source": [
    "from sklearn.linear_model import LogisticRegression\n",
    "from sklearn.metrics import accuracy_score,confusion_matrix,classification_report"
   ]
  },
  {
   "cell_type": "markdown",
   "metadata": {},
   "source": [
    "# Logistic Regression"
   ]
  },
  {
   "cell_type": "code",
   "execution_count": 34,
   "metadata": {},
   "outputs": [],
   "source": [
    "logistic = LogisticRegression()"
   ]
  },
  {
   "cell_type": "code",
   "execution_count": 35,
   "metadata": {},
   "outputs": [
    {
     "data": {
      "text/html": [
       "<style>#sk-container-id-1 {color: black;}#sk-container-id-1 pre{padding: 0;}#sk-container-id-1 div.sk-toggleable {background-color: white;}#sk-container-id-1 label.sk-toggleable__label {cursor: pointer;display: block;width: 100%;margin-bottom: 0;padding: 0.3em;box-sizing: border-box;text-align: center;}#sk-container-id-1 label.sk-toggleable__label-arrow:before {content: \"▸\";float: left;margin-right: 0.25em;color: #696969;}#sk-container-id-1 label.sk-toggleable__label-arrow:hover:before {color: black;}#sk-container-id-1 div.sk-estimator:hover label.sk-toggleable__label-arrow:before {color: black;}#sk-container-id-1 div.sk-toggleable__content {max-height: 0;max-width: 0;overflow: hidden;text-align: left;background-color: #f0f8ff;}#sk-container-id-1 div.sk-toggleable__content pre {margin: 0.2em;color: black;border-radius: 0.25em;background-color: #f0f8ff;}#sk-container-id-1 input.sk-toggleable__control:checked~div.sk-toggleable__content {max-height: 200px;max-width: 100%;overflow: auto;}#sk-container-id-1 input.sk-toggleable__control:checked~label.sk-toggleable__label-arrow:before {content: \"▾\";}#sk-container-id-1 div.sk-estimator input.sk-toggleable__control:checked~label.sk-toggleable__label {background-color: #d4ebff;}#sk-container-id-1 div.sk-label input.sk-toggleable__control:checked~label.sk-toggleable__label {background-color: #d4ebff;}#sk-container-id-1 input.sk-hidden--visually {border: 0;clip: rect(1px 1px 1px 1px);clip: rect(1px, 1px, 1px, 1px);height: 1px;margin: -1px;overflow: hidden;padding: 0;position: absolute;width: 1px;}#sk-container-id-1 div.sk-estimator {font-family: monospace;background-color: #f0f8ff;border: 1px dotted black;border-radius: 0.25em;box-sizing: border-box;margin-bottom: 0.5em;}#sk-container-id-1 div.sk-estimator:hover {background-color: #d4ebff;}#sk-container-id-1 div.sk-parallel-item::after {content: \"\";width: 100%;border-bottom: 1px solid gray;flex-grow: 1;}#sk-container-id-1 div.sk-label:hover label.sk-toggleable__label {background-color: #d4ebff;}#sk-container-id-1 div.sk-serial::before {content: \"\";position: absolute;border-left: 1px solid gray;box-sizing: border-box;top: 0;bottom: 0;left: 50%;z-index: 0;}#sk-container-id-1 div.sk-serial {display: flex;flex-direction: column;align-items: center;background-color: white;padding-right: 0.2em;padding-left: 0.2em;position: relative;}#sk-container-id-1 div.sk-item {position: relative;z-index: 1;}#sk-container-id-1 div.sk-parallel {display: flex;align-items: stretch;justify-content: center;background-color: white;position: relative;}#sk-container-id-1 div.sk-item::before, #sk-container-id-1 div.sk-parallel-item::before {content: \"\";position: absolute;border-left: 1px solid gray;box-sizing: border-box;top: 0;bottom: 0;left: 50%;z-index: -1;}#sk-container-id-1 div.sk-parallel-item {display: flex;flex-direction: column;z-index: 1;position: relative;background-color: white;}#sk-container-id-1 div.sk-parallel-item:first-child::after {align-self: flex-end;width: 50%;}#sk-container-id-1 div.sk-parallel-item:last-child::after {align-self: flex-start;width: 50%;}#sk-container-id-1 div.sk-parallel-item:only-child::after {width: 0;}#sk-container-id-1 div.sk-dashed-wrapped {border: 1px dashed gray;margin: 0 0.4em 0.5em 0.4em;box-sizing: border-box;padding-bottom: 0.4em;background-color: white;}#sk-container-id-1 div.sk-label label {font-family: monospace;font-weight: bold;display: inline-block;line-height: 1.2em;}#sk-container-id-1 div.sk-label-container {text-align: center;}#sk-container-id-1 div.sk-container {/* jupyter's `normalize.less` sets `[hidden] { display: none; }` but bootstrap.min.css set `[hidden] { display: none !important; }` so we also need the `!important` here to be able to override the default hidden behavior on the sphinx rendered scikit-learn.org. See: https://github.com/scikit-learn/scikit-learn/issues/21755 */display: inline-block !important;position: relative;}#sk-container-id-1 div.sk-text-repr-fallback {display: none;}</style><div id=\"sk-container-id-1\" class=\"sk-top-container\"><div class=\"sk-text-repr-fallback\"><pre>LogisticRegression()</pre><b>In a Jupyter environment, please rerun this cell to show the HTML representation or trust the notebook. <br />On GitHub, the HTML representation is unable to render, please try loading this page with nbviewer.org.</b></div><div class=\"sk-container\" hidden><div class=\"sk-item\"><div class=\"sk-estimator sk-toggleable\"><input class=\"sk-toggleable__control sk-hidden--visually\" id=\"sk-estimator-id-1\" type=\"checkbox\" checked><label for=\"sk-estimator-id-1\" class=\"sk-toggleable__label sk-toggleable__label-arrow\">LogisticRegression</label><div class=\"sk-toggleable__content\"><pre>LogisticRegression()</pre></div></div></div></div></div>"
      ],
      "text/plain": [
       "LogisticRegression()"
      ]
     },
     "execution_count": 35,
     "metadata": {},
     "output_type": "execute_result"
    }
   ],
   "source": [
    "logistic.fit(X_train,y_train)"
   ]
  },
  {
   "cell_type": "code",
   "execution_count": 36,
   "metadata": {},
   "outputs": [],
   "source": [
    "y_pred = logistic.predict(X_test)"
   ]
  },
  {
   "cell_type": "code",
   "execution_count": null,
   "metadata": {},
   "outputs": [],
   "source": []
  },
  {
   "cell_type": "code",
   "execution_count": 37,
   "metadata": {},
   "outputs": [
    {
     "data": {
      "application/vnd.plotly.v1+json": {
       "config": {
        "plotlyServerURL": "https://plot.ly"
       },
       "data": [
        {
         "marker": {
          "color": "green"
         },
         "mode": "markers",
         "name": "Actual",
         "type": "scatter",
         "x": [
          0,
          1,
          2,
          3,
          4,
          5,
          6,
          7,
          8,
          9,
          10,
          11,
          12,
          13,
          14,
          15,
          16,
          17,
          18,
          19,
          20,
          21,
          22,
          23,
          24,
          25,
          26,
          27,
          28,
          29,
          30,
          31,
          32,
          33,
          34,
          35,
          36,
          37,
          38,
          39,
          40,
          41,
          42,
          43,
          44,
          45,
          46,
          47,
          48,
          49
         ],
         "y": [
          0,
          0,
          0,
          0,
          0,
          0,
          0,
          0,
          0,
          0,
          0,
          0,
          0,
          0,
          0,
          0,
          0,
          1,
          1,
          0,
          0,
          0,
          0,
          0,
          0,
          0,
          0,
          0,
          0,
          0,
          0,
          0,
          0,
          0,
          1,
          1,
          0,
          0,
          0,
          0,
          0,
          0,
          0,
          0,
          1,
          0,
          1,
          1,
          0,
          0
         ]
        },
        {
         "marker": {
          "color": "red"
         },
         "mode": "markers",
         "name": "Predicted",
         "type": "scatter",
         "x": [
          0,
          1,
          2,
          3,
          4,
          5,
          6,
          7,
          8,
          9,
          10,
          11,
          12,
          13,
          14,
          15,
          16,
          17,
          18,
          19,
          20,
          21,
          22,
          23,
          24,
          25,
          26,
          27,
          28,
          29,
          30,
          31,
          32,
          33,
          34,
          35,
          36,
          37,
          38,
          39,
          40,
          41,
          42,
          43,
          44,
          45,
          46,
          47,
          48,
          49
         ],
         "y": [
          0,
          0,
          0,
          0,
          0,
          1,
          0,
          0,
          0,
          0,
          0,
          0,
          0,
          0,
          1,
          0,
          0,
          0,
          0,
          1,
          0,
          0,
          0,
          0,
          0,
          0,
          0,
          0,
          0,
          0,
          1,
          0,
          0,
          0,
          0,
          0,
          0,
          0,
          0,
          0,
          0,
          0,
          0,
          0,
          0,
          0,
          1,
          1,
          0,
          0
         ]
        },
        {
         "line": {
          "color": "blue",
          "width": 2
         },
         "mode": "lines",
         "name": "Regression line",
         "type": "scatter",
         "x": [
          0,
          1,
          2,
          3,
          4,
          5,
          6,
          7,
          8,
          9,
          10,
          11,
          12,
          13,
          14,
          15,
          16,
          17,
          18,
          19,
          20,
          21,
          22,
          23,
          24,
          25,
          26,
          27,
          28,
          29,
          30,
          31,
          32,
          33,
          34,
          35,
          36,
          37,
          38,
          39,
          40,
          41,
          42,
          43,
          44,
          45,
          46,
          47,
          48,
          49
         ],
         "y": [
          0,
          0,
          0,
          0,
          0,
          1,
          0,
          0,
          0,
          0,
          0,
          0,
          0,
          0,
          1,
          0,
          0,
          0,
          0,
          1,
          0,
          0,
          0,
          0,
          0,
          0,
          0,
          0,
          0,
          0,
          1,
          0,
          0,
          0,
          0,
          0,
          0,
          0,
          0,
          0,
          0,
          0,
          0,
          0,
          0,
          0,
          1,
          1,
          0,
          0
         ]
        }
       ],
       "layout": {
        "hovermode": "closest",
        "template": {
         "data": {
          "bar": [
           {
            "error_x": {
             "color": "#2a3f5f"
            },
            "error_y": {
             "color": "#2a3f5f"
            },
            "marker": {
             "line": {
              "color": "#E5ECF6",
              "width": 0.5
             },
             "pattern": {
              "fillmode": "overlay",
              "size": 10,
              "solidity": 0.2
             }
            },
            "type": "bar"
           }
          ],
          "barpolar": [
           {
            "marker": {
             "line": {
              "color": "#E5ECF6",
              "width": 0.5
             },
             "pattern": {
              "fillmode": "overlay",
              "size": 10,
              "solidity": 0.2
             }
            },
            "type": "barpolar"
           }
          ],
          "carpet": [
           {
            "aaxis": {
             "endlinecolor": "#2a3f5f",
             "gridcolor": "white",
             "linecolor": "white",
             "minorgridcolor": "white",
             "startlinecolor": "#2a3f5f"
            },
            "baxis": {
             "endlinecolor": "#2a3f5f",
             "gridcolor": "white",
             "linecolor": "white",
             "minorgridcolor": "white",
             "startlinecolor": "#2a3f5f"
            },
            "type": "carpet"
           }
          ],
          "choropleth": [
           {
            "colorbar": {
             "outlinewidth": 0,
             "ticks": ""
            },
            "type": "choropleth"
           }
          ],
          "contour": [
           {
            "colorbar": {
             "outlinewidth": 0,
             "ticks": ""
            },
            "colorscale": [
             [
              0,
              "#0d0887"
             ],
             [
              0.1111111111111111,
              "#46039f"
             ],
             [
              0.2222222222222222,
              "#7201a8"
             ],
             [
              0.3333333333333333,
              "#9c179e"
             ],
             [
              0.4444444444444444,
              "#bd3786"
             ],
             [
              0.5555555555555556,
              "#d8576b"
             ],
             [
              0.6666666666666666,
              "#ed7953"
             ],
             [
              0.7777777777777778,
              "#fb9f3a"
             ],
             [
              0.8888888888888888,
              "#fdca26"
             ],
             [
              1,
              "#f0f921"
             ]
            ],
            "type": "contour"
           }
          ],
          "contourcarpet": [
           {
            "colorbar": {
             "outlinewidth": 0,
             "ticks": ""
            },
            "type": "contourcarpet"
           }
          ],
          "heatmap": [
           {
            "colorbar": {
             "outlinewidth": 0,
             "ticks": ""
            },
            "colorscale": [
             [
              0,
              "#0d0887"
             ],
             [
              0.1111111111111111,
              "#46039f"
             ],
             [
              0.2222222222222222,
              "#7201a8"
             ],
             [
              0.3333333333333333,
              "#9c179e"
             ],
             [
              0.4444444444444444,
              "#bd3786"
             ],
             [
              0.5555555555555556,
              "#d8576b"
             ],
             [
              0.6666666666666666,
              "#ed7953"
             ],
             [
              0.7777777777777778,
              "#fb9f3a"
             ],
             [
              0.8888888888888888,
              "#fdca26"
             ],
             [
              1,
              "#f0f921"
             ]
            ],
            "type": "heatmap"
           }
          ],
          "heatmapgl": [
           {
            "colorbar": {
             "outlinewidth": 0,
             "ticks": ""
            },
            "colorscale": [
             [
              0,
              "#0d0887"
             ],
             [
              0.1111111111111111,
              "#46039f"
             ],
             [
              0.2222222222222222,
              "#7201a8"
             ],
             [
              0.3333333333333333,
              "#9c179e"
             ],
             [
              0.4444444444444444,
              "#bd3786"
             ],
             [
              0.5555555555555556,
              "#d8576b"
             ],
             [
              0.6666666666666666,
              "#ed7953"
             ],
             [
              0.7777777777777778,
              "#fb9f3a"
             ],
             [
              0.8888888888888888,
              "#fdca26"
             ],
             [
              1,
              "#f0f921"
             ]
            ],
            "type": "heatmapgl"
           }
          ],
          "histogram": [
           {
            "marker": {
             "pattern": {
              "fillmode": "overlay",
              "size": 10,
              "solidity": 0.2
             }
            },
            "type": "histogram"
           }
          ],
          "histogram2d": [
           {
            "colorbar": {
             "outlinewidth": 0,
             "ticks": ""
            },
            "colorscale": [
             [
              0,
              "#0d0887"
             ],
             [
              0.1111111111111111,
              "#46039f"
             ],
             [
              0.2222222222222222,
              "#7201a8"
             ],
             [
              0.3333333333333333,
              "#9c179e"
             ],
             [
              0.4444444444444444,
              "#bd3786"
             ],
             [
              0.5555555555555556,
              "#d8576b"
             ],
             [
              0.6666666666666666,
              "#ed7953"
             ],
             [
              0.7777777777777778,
              "#fb9f3a"
             ],
             [
              0.8888888888888888,
              "#fdca26"
             ],
             [
              1,
              "#f0f921"
             ]
            ],
            "type": "histogram2d"
           }
          ],
          "histogram2dcontour": [
           {
            "colorbar": {
             "outlinewidth": 0,
             "ticks": ""
            },
            "colorscale": [
             [
              0,
              "#0d0887"
             ],
             [
              0.1111111111111111,
              "#46039f"
             ],
             [
              0.2222222222222222,
              "#7201a8"
             ],
             [
              0.3333333333333333,
              "#9c179e"
             ],
             [
              0.4444444444444444,
              "#bd3786"
             ],
             [
              0.5555555555555556,
              "#d8576b"
             ],
             [
              0.6666666666666666,
              "#ed7953"
             ],
             [
              0.7777777777777778,
              "#fb9f3a"
             ],
             [
              0.8888888888888888,
              "#fdca26"
             ],
             [
              1,
              "#f0f921"
             ]
            ],
            "type": "histogram2dcontour"
           }
          ],
          "mesh3d": [
           {
            "colorbar": {
             "outlinewidth": 0,
             "ticks": ""
            },
            "type": "mesh3d"
           }
          ],
          "parcoords": [
           {
            "line": {
             "colorbar": {
              "outlinewidth": 0,
              "ticks": ""
             }
            },
            "type": "parcoords"
           }
          ],
          "pie": [
           {
            "automargin": true,
            "type": "pie"
           }
          ],
          "scatter": [
           {
            "fillpattern": {
             "fillmode": "overlay",
             "size": 10,
             "solidity": 0.2
            },
            "type": "scatter"
           }
          ],
          "scatter3d": [
           {
            "line": {
             "colorbar": {
              "outlinewidth": 0,
              "ticks": ""
             }
            },
            "marker": {
             "colorbar": {
              "outlinewidth": 0,
              "ticks": ""
             }
            },
            "type": "scatter3d"
           }
          ],
          "scattercarpet": [
           {
            "marker": {
             "colorbar": {
              "outlinewidth": 0,
              "ticks": ""
             }
            },
            "type": "scattercarpet"
           }
          ],
          "scattergeo": [
           {
            "marker": {
             "colorbar": {
              "outlinewidth": 0,
              "ticks": ""
             }
            },
            "type": "scattergeo"
           }
          ],
          "scattergl": [
           {
            "marker": {
             "colorbar": {
              "outlinewidth": 0,
              "ticks": ""
             }
            },
            "type": "scattergl"
           }
          ],
          "scattermapbox": [
           {
            "marker": {
             "colorbar": {
              "outlinewidth": 0,
              "ticks": ""
             }
            },
            "type": "scattermapbox"
           }
          ],
          "scatterpolar": [
           {
            "marker": {
             "colorbar": {
              "outlinewidth": 0,
              "ticks": ""
             }
            },
            "type": "scatterpolar"
           }
          ],
          "scatterpolargl": [
           {
            "marker": {
             "colorbar": {
              "outlinewidth": 0,
              "ticks": ""
             }
            },
            "type": "scatterpolargl"
           }
          ],
          "scatterternary": [
           {
            "marker": {
             "colorbar": {
              "outlinewidth": 0,
              "ticks": ""
             }
            },
            "type": "scatterternary"
           }
          ],
          "surface": [
           {
            "colorbar": {
             "outlinewidth": 0,
             "ticks": ""
            },
            "colorscale": [
             [
              0,
              "#0d0887"
             ],
             [
              0.1111111111111111,
              "#46039f"
             ],
             [
              0.2222222222222222,
              "#7201a8"
             ],
             [
              0.3333333333333333,
              "#9c179e"
             ],
             [
              0.4444444444444444,
              "#bd3786"
             ],
             [
              0.5555555555555556,
              "#d8576b"
             ],
             [
              0.6666666666666666,
              "#ed7953"
             ],
             [
              0.7777777777777778,
              "#fb9f3a"
             ],
             [
              0.8888888888888888,
              "#fdca26"
             ],
             [
              1,
              "#f0f921"
             ]
            ],
            "type": "surface"
           }
          ],
          "table": [
           {
            "cells": {
             "fill": {
              "color": "#EBF0F8"
             },
             "line": {
              "color": "white"
             }
            },
            "header": {
             "fill": {
              "color": "#C8D4E3"
             },
             "line": {
              "color": "white"
             }
            },
            "type": "table"
           }
          ]
         },
         "layout": {
          "annotationdefaults": {
           "arrowcolor": "#2a3f5f",
           "arrowhead": 0,
           "arrowwidth": 1
          },
          "autotypenumbers": "strict",
          "coloraxis": {
           "colorbar": {
            "outlinewidth": 0,
            "ticks": ""
           }
          },
          "colorscale": {
           "diverging": [
            [
             0,
             "#8e0152"
            ],
            [
             0.1,
             "#c51b7d"
            ],
            [
             0.2,
             "#de77ae"
            ],
            [
             0.3,
             "#f1b6da"
            ],
            [
             0.4,
             "#fde0ef"
            ],
            [
             0.5,
             "#f7f7f7"
            ],
            [
             0.6,
             "#e6f5d0"
            ],
            [
             0.7,
             "#b8e186"
            ],
            [
             0.8,
             "#7fbc41"
            ],
            [
             0.9,
             "#4d9221"
            ],
            [
             1,
             "#276419"
            ]
           ],
           "sequential": [
            [
             0,
             "#0d0887"
            ],
            [
             0.1111111111111111,
             "#46039f"
            ],
            [
             0.2222222222222222,
             "#7201a8"
            ],
            [
             0.3333333333333333,
             "#9c179e"
            ],
            [
             0.4444444444444444,
             "#bd3786"
            ],
            [
             0.5555555555555556,
             "#d8576b"
            ],
            [
             0.6666666666666666,
             "#ed7953"
            ],
            [
             0.7777777777777778,
             "#fb9f3a"
            ],
            [
             0.8888888888888888,
             "#fdca26"
            ],
            [
             1,
             "#f0f921"
            ]
           ],
           "sequentialminus": [
            [
             0,
             "#0d0887"
            ],
            [
             0.1111111111111111,
             "#46039f"
            ],
            [
             0.2222222222222222,
             "#7201a8"
            ],
            [
             0.3333333333333333,
             "#9c179e"
            ],
            [
             0.4444444444444444,
             "#bd3786"
            ],
            [
             0.5555555555555556,
             "#d8576b"
            ],
            [
             0.6666666666666666,
             "#ed7953"
            ],
            [
             0.7777777777777778,
             "#fb9f3a"
            ],
            [
             0.8888888888888888,
             "#fdca26"
            ],
            [
             1,
             "#f0f921"
            ]
           ]
          },
          "colorway": [
           "#636efa",
           "#EF553B",
           "#00cc96",
           "#ab63fa",
           "#FFA15A",
           "#19d3f3",
           "#FF6692",
           "#B6E880",
           "#FF97FF",
           "#FECB52"
          ],
          "font": {
           "color": "#2a3f5f"
          },
          "geo": {
           "bgcolor": "white",
           "lakecolor": "white",
           "landcolor": "#E5ECF6",
           "showlakes": true,
           "showland": true,
           "subunitcolor": "white"
          },
          "hoverlabel": {
           "align": "left"
          },
          "hovermode": "closest",
          "mapbox": {
           "style": "light"
          },
          "paper_bgcolor": "white",
          "plot_bgcolor": "#E5ECF6",
          "polar": {
           "angularaxis": {
            "gridcolor": "white",
            "linecolor": "white",
            "ticks": ""
           },
           "bgcolor": "#E5ECF6",
           "radialaxis": {
            "gridcolor": "white",
            "linecolor": "white",
            "ticks": ""
           }
          },
          "scene": {
           "xaxis": {
            "backgroundcolor": "#E5ECF6",
            "gridcolor": "white",
            "gridwidth": 2,
            "linecolor": "white",
            "showbackground": true,
            "ticks": "",
            "zerolinecolor": "white"
           },
           "yaxis": {
            "backgroundcolor": "#E5ECF6",
            "gridcolor": "white",
            "gridwidth": 2,
            "linecolor": "white",
            "showbackground": true,
            "ticks": "",
            "zerolinecolor": "white"
           },
           "zaxis": {
            "backgroundcolor": "#E5ECF6",
            "gridcolor": "white",
            "gridwidth": 2,
            "linecolor": "white",
            "showbackground": true,
            "ticks": "",
            "zerolinecolor": "white"
           }
          },
          "shapedefaults": {
           "line": {
            "color": "#2a3f5f"
           }
          },
          "ternary": {
           "aaxis": {
            "gridcolor": "white",
            "linecolor": "white",
            "ticks": ""
           },
           "baxis": {
            "gridcolor": "white",
            "linecolor": "white",
            "ticks": ""
           },
           "bgcolor": "#E5ECF6",
           "caxis": {
            "gridcolor": "white",
            "linecolor": "white",
            "ticks": ""
           }
          },
          "title": {
           "x": 0.05
          },
          "xaxis": {
           "automargin": true,
           "gridcolor": "white",
           "linecolor": "white",
           "ticks": "",
           "title": {
            "standoff": 15
           },
           "zerolinecolor": "white",
           "zerolinewidth": 2
          },
          "yaxis": {
           "automargin": true,
           "gridcolor": "white",
           "linecolor": "white",
           "ticks": "",
           "title": {
            "standoff": 15
           },
           "zerolinecolor": "white",
           "zerolinewidth": 2
          }
         }
        },
        "title": {
         "text": "Comparison of Actual and Predicted Data Points with Regression Line"
        },
        "xaxis": {
         "title": {
          "text": "Data Point Index"
         }
        },
        "yaxis": {
         "title": {
          "text": "y"
         }
        }
       }
      }
     },
     "metadata": {},
     "output_type": "display_data"
    }
   ],
   "source": [
    "import plotly.graph_objs as go\n",
    "\n",
    "# Assuming you have y_test and y_pred defined\n",
    "\n",
    "# Assuming y_test and y_pred are already defined with 30 samples\n",
    "y_test_sample = y_test[:50]\n",
    "y_pred_sample = y_pred[:50]\n",
    "\n",
    "# Convert range to list for x-axis\n",
    "x_values = list(range(len(y_test_sample)))\n",
    "\n",
    "# Create traces for actual and predicted data points\n",
    "trace_actual = go.Scatter(x=x_values, y=y_test_sample, mode='markers', name='Actual', marker=dict(color='green'))\n",
    "trace_predicted = go.Scatter(x=x_values, y=y_pred_sample, mode='markers', name='Predicted', marker=dict(color='red'))\n",
    "\n",
    "# Create a trace for the regression line\n",
    "trace_regression = go.Scatter(x=x_values, y=y_pred_sample, mode='lines', name='Regression line', line=dict(color='blue', width=2))\n",
    "\n",
    "# Combine traces into a data list\n",
    "data = [trace_actual, trace_predicted, trace_regression]\n",
    "\n",
    "# Define layout for the plot\n",
    "layout = go.Layout(\n",
    "    title='Comparison of Actual and Predicted Data Points with Regression Line',\n",
    "    xaxis=dict(title='Data Point Index'),\n",
    "    yaxis=dict(title='y'),\n",
    "    hovermode='closest',  # Show closest data point's values upon hover\n",
    ")\n",
    "\n",
    "# Create figure object that combines data and layout\n",
    "fig = go.Figure(data=data, layout=layout)\n",
    "\n",
    "# Display the interactive plot\n",
    "fig.show()\n"
   ]
  },
  {
   "cell_type": "code",
   "execution_count": 40,
   "metadata": {},
   "outputs": [],
   "source": [
    "y_test.drop(index=19600,inplace=True)"
   ]
  },
  {
   "cell_type": "code",
   "execution_count": 41,
   "metadata": {},
   "outputs": [
    {
     "data": {
      "text/plain": [
       "0.847879532882606"
      ]
     },
     "execution_count": 41,
     "metadata": {},
     "output_type": "execute_result"
    }
   ],
   "source": [
    "accuracy_score(y_test,y_pred)"
   ]
  },
  {
   "cell_type": "markdown",
   "metadata": {},
   "source": [
    "# Confusion Matrix"
   ]
  },
  {
   "cell_type": "code",
   "execution_count": 42,
   "metadata": {},
   "outputs": [],
   "source": [
    "from sklearn.metrics import confusion_matrix\n",
    "\n",
    "cm = confusion_matrix(y_test,y_pred)"
   ]
  },
  {
   "cell_type": "code",
   "execution_count": 43,
   "metadata": {},
   "outputs": [
    {
     "data": {
      "text/plain": [
       "<sklearn.metrics._plot.confusion_matrix.ConfusionMatrixDisplay at 0x1acbf606fd0>"
      ]
     },
     "execution_count": 43,
     "metadata": {},
     "output_type": "execute_result"
    },
    {
     "data": {
      "image/png": "[encoded data removed]",
      "text/plain": [
       "<Figure size 640x480 with 2 Axes>"
      ]
     },
     "metadata": {},
     "output_type": "display_data"
    }
   ],
   "source": [
    "from sklearn.metrics import ConfusionMatrixDisplay\n",
    "\n",
    "ConfusionMatrixDisplay(cm).plot()"
   ]
  },
  {
   "cell_type": "code",
   "execution_count": null,
   "metadata": {},
   "outputs": [],
   "source": []
  }
 ],
 "metadata": {
  "kernelspec": {
   "display_name": "base",
   "language": "python",
   "name": "python3"
  },
  "language_info": {
   "codemirror_mode": {
    "name": "ipython",
    "version": 3
   },
   "file_extension": ".py",
   "mimetype": "text/x-python",
   "name": "python",
   "nbconvert_exporter": "python",
   "pygments_lexer": "ipython3",
   "version": "3.8.0"
  }
 },
 "nbformat": 4,
 "nbformat_minor": 2
}
